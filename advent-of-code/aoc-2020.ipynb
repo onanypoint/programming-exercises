{
 "cells": [
  {
   "cell_type": "code",
   "execution_count": null,
   "metadata": {},
   "outputs": [],
   "source": [
    "from aocd import data, submit\n",
    "from aocd.models import Puzzle"
   ]
  },
  {
   "cell_type": "code",
   "execution_count": null,
   "metadata": {},
   "outputs": [],
   "source": [
    "import itertools\n",
    "import functools\n",
    "import random\n",
    "import collections\n",
    "import operator\n",
    "import sys\n",
    "import re\n",
    "import copy\n",
    "import numpy as np\n",
    "import math\n",
    "import string\n",
    "import networkx as nx"
   ]
  },
  {
   "cell_type": "code",
   "execution_count": null,
   "metadata": {},
   "outputs": [],
   "source": [
    "from helpers.functions import *"
   ]
  },
  {
   "cell_type": "markdown",
   "metadata": {},
   "source": [
    "Configuration"
   ]
  },
  {
   "cell_type": "code",
   "execution_count": null,
   "metadata": {},
   "outputs": [],
   "source": [
    "DIR = \"data/2020/\"\n",
    "load_day = functools.partial(load, DIR)"
   ]
  },
  {
   "cell_type": "markdown",
   "metadata": {},
   "source": [
    "# Problems"
   ]
  },
  {
   "cell_type": "markdown",
   "metadata": {},
   "source": [
    "## Day 1\n",
    "\n",
    "http://adventofcode.com/2020/day/1"
   ]
  },
  {
   "cell_type": "code",
   "execution_count": null,
   "metadata": {},
   "outputs": [],
   "source": [
    "content = mapl(int, load_day(1))"
   ]
  },
  {
   "cell_type": "code",
   "execution_count": null,
   "metadata": {},
   "outputs": [],
   "source": [
    "next(a*b for a, b in itertools.combinations(content, r=2) if a + b == 2020)"
   ]
  },
  {
   "cell_type": "code",
   "execution_count": null,
   "metadata": {},
   "outputs": [],
   "source": [
    "next(a*b*c for a, b, c in itertools.combinations(content, r=3) if a + b + c == 2020)"
   ]
  },
  {
   "cell_type": "markdown",
   "metadata": {},
   "source": [
    "## Day 2\n",
    "\n",
    "http://adventofcode.com/2020/day/2"
   ]
  },
  {
   "cell_type": "code",
   "execution_count": null,
   "metadata": {},
   "outputs": [],
   "source": [
    "content = mapl(str, load_day(2))"
   ]
  },
  {
   "cell_type": "code",
   "execution_count": null,
   "metadata": {},
   "outputs": [],
   "source": [
    "total = 0\n",
    "for password in content:\n",
    "    s, e, c, pswd = re.match(\"(\\d+)-(\\d+) (\\w): (\\w+)\", password).groups()\n",
    "    if int(s) <= pswd.count(c) <= int(e):\n",
    "        total += 1\n",
    "        \n",
    "total"
   ]
  },
  {
   "cell_type": "code",
   "execution_count": null,
   "metadata": {},
   "outputs": [],
   "source": [
    "total = 0\n",
    "for password in content:\n",
    "    s, e, c, pswd = re.match(\"(\\d+)-(\\d+) (\\w): (\\w+)\", password).groups()\n",
    "    if (pswd[int(s)-1] == c) ^ (pswd[int(e)-1] == c):\n",
    "        total += 1\n",
    "        \n",
    "total"
   ]
  },
  {
   "cell_type": "markdown",
   "metadata": {},
   "source": [
    "## Day 3\n",
    "\n",
    "http://adventofcode.com/2020/day/3"
   ]
  },
  {
   "cell_type": "code",
   "execution_count": null,
   "metadata": {},
   "outputs": [],
   "source": [
    "content = Puzzle(year=2020, day=3).input_data.split(\"\\n\")"
   ]
  },
  {
   "cell_type": "code",
   "execution_count": null,
   "metadata": {},
   "outputs": [],
   "source": [
    "def get_tree(right, down):\n",
    "    offset = count = 0\n",
    "    for row in content[::down]:\n",
    "        count += row[offset % len(content[0])] == \"#\"\n",
    "        offset += right\n",
    "    return count"
   ]
  },
  {
   "cell_type": "code",
   "execution_count": null,
   "metadata": {},
   "outputs": [],
   "source": [
    "solution = get_tree(3, 1)\n",
    "#submit(solution, part=\"a\", day=3, year=2020)"
   ]
  },
  {
   "cell_type": "code",
   "execution_count": null,
   "metadata": {},
   "outputs": [],
   "source": [
    "solution = get_tree(1, 1) * get_tree(3, 1) * get_tree(5, 1) * get_tree(7, 1) * get_tree(1, 2)\n",
    "#submit(solution, part=\"b\", day=3, year=2020)"
   ]
  },
  {
   "cell_type": "markdown",
   "metadata": {},
   "source": [
    "## Day 4\n",
    "\n",
    "http://adventofcode.com/2020/day/4"
   ]
  },
  {
   "cell_type": "code",
   "execution_count": null,
   "metadata": {},
   "outputs": [],
   "source": [
    "content = Puzzle(year=2020, day=4).input_data\n",
    "content = [l.replace(\"\\n\", \" \") for l in content.split('\\n\\n')]"
   ]
  },
  {
   "cell_type": "code",
   "execution_count": null,
   "metadata": {},
   "outputs": [],
   "source": [
    "CODES = {\"ecl\", \"pid\", \"eyr\", \"hcl\", \"byr\", \"iyr\", \"hgt\"}"
   ]
  },
  {
   "cell_type": "code",
   "execution_count": null,
   "metadata": {},
   "outputs": [],
   "source": [
    "solution = sum(map(lambda x: not(ALL-set(re.findall(r\"(\\w+):\", x))), content))\n",
    "#submit(solution, part=\"a\", day=4, year=2020)"
   ]
  },
  {
   "cell_type": "code",
   "execution_count": null,
   "metadata": {},
   "outputs": [],
   "source": [
    "solution = 0\n",
    "for line in content:\n",
    "    pairs = re.findall(r\"(\\w+):(\\S+)\", line)\n",
    "    if CODES - set(p[0] for p in pairs):\n",
    "        continue\n",
    "        \n",
    "    valid = True\n",
    "    for k, v in pairs:\n",
    "        if k == \"byr\":\n",
    "            valid &= 1920 <= int(v) <= 2002\n",
    "        \n",
    "        elif k == \"iyr\":\n",
    "            valid &= 2010 <= int(v) <= 2020\n",
    "        \n",
    "        elif k == \"eyr\":\n",
    "            valid &= 2020 <= int(v) <= 2030\n",
    "        \n",
    "        elif k == \"hgt\":\n",
    "            if v.endswith(\"cm\"):\n",
    "                valid &= 150 <= int(v[:-2]) <= 193\n",
    "            elif v.endswith(\"in\"):\n",
    "                valid &= 59 <= int(v[:-2]) <= 76\n",
    "        \n",
    "        elif k == \"hcl\":\n",
    "            valid &= bool(re.fullmatch(r'#[0-9a-f]{6}', v))\n",
    "        \n",
    "        elif k == \"ecl\":\n",
    "            valid &= v in {\"amb\", \"blu\", \"brn\", \"gry\", \"grn\", \"hzl\", \"oth\"}\n",
    "        \n",
    "        elif k == \"pid\":\n",
    "            valid &= bool(re.fullmatch(r'[0-9]{9}', v))\n",
    "        \n",
    "        elif k == \"cid\":\n",
    "            valid &= True\n",
    "            \n",
    "    solution += valid\n",
    "    \n",
    "#submit(solution, part=\"b\", day=4, year=2020)"
   ]
  },
  {
   "cell_type": "markdown",
   "metadata": {},
   "source": [
    "## Day 5\n",
    "\n",
    "http://adventofcode.com/2020/day/5"
   ]
  },
  {
   "cell_type": "code",
   "execution_count": null,
   "metadata": {},
   "outputs": [],
   "source": [
    "content = Puzzle(year=2020, day=5).input_data.split()"
   ]
  },
  {
   "cell_type": "code",
   "execution_count": null,
   "metadata": {},
   "outputs": [],
   "source": [
    "mapping = str.maketrans(\"FLBR\", \"0011\")\n",
    "IDS = sorted(int(line.translate(mapping), 2) for line in content)"
   ]
  },
  {
   "cell_type": "code",
   "execution_count": null,
   "metadata": {},
   "outputs": [],
   "source": [
    "solution = IDS[-1]\n",
    "#submit(solution, part=\"a\", day=5, year=2020)"
   ]
  },
  {
   "cell_type": "code",
   "execution_count": null,
   "metadata": {},
   "outputs": [],
   "source": [
    "solution = next(id2 - 1 for id1, id2 in zip(IDS, IDS[1:]) if id2 - id1 - 1)\n",
    "#submit(solution, part=\"b\", day=5, year=2020)"
   ]
  },
  {
   "cell_type": "markdown",
   "metadata": {},
   "source": [
    "## Day 6\n",
    "\n",
    "http://adventofcode.com/2020/day/6"
   ]
  },
  {
   "cell_type": "code",
   "execution_count": null,
   "metadata": {},
   "outputs": [],
   "source": [
    "content = Puzzle(year=2020, day=6).input_data.split(\"\\n\\n\")"
   ]
  },
  {
   "cell_type": "code",
   "execution_count": null,
   "metadata": {},
   "outputs": [],
   "source": [
    "solution = sum(len(set.union(*[set(answer) for answer in answers.split()])) for answers in content)\n",
    "#submit(solution, part=\"a\", day=6, year=2020)"
   ]
  },
  {
   "cell_type": "code",
   "execution_count": null,
   "metadata": {},
   "outputs": [],
   "source": [
    "solution = sum(len(set.intersection(*[set(answer) for answer in answers.split()])) for answers in content)\n",
    "#submit(solution, part=\"b\", day=6, year=2020)"
   ]
  },
  {
   "cell_type": "markdown",
   "metadata": {},
   "source": [
    "## Day 7\n",
    "\n",
    "http://adventofcode.com/2020/day/7"
   ]
  },
  {
   "cell_type": "code",
   "execution_count": null,
   "metadata": {},
   "outputs": [],
   "source": [
    "content = Puzzle(year=2020, day=7).input_data.split(\"\\n\")"
   ]
  },
  {
   "cell_type": "code",
   "execution_count": null,
   "metadata": {},
   "outputs": [],
   "source": [
    "mapping = collections.defaultdict(set)\n",
    "mapping_inverse = collections.defaultdict(list)\n",
    "for line in content:\n",
    "    color = re.match(r\"([\\w ]+) bags contain\", line)[1]\n",
    "    for count, incolor in re.findall(r\"(\\d+) ([\\w ]+) bag\", line):\n",
    "        mapping[incolor].add(color)\n",
    "        mapping_inverse[color].append((int(count), incolor))"
   ]
  },
  {
   "cell_type": "code",
   "execution_count": null,
   "metadata": {},
   "outputs": [],
   "source": [
    "acc = set()\n",
    "def recurse(color):\n",
    "    for c in mapping[color]:\n",
    "        acc.add(c)\n",
    "        recurse(c)\n",
    "        \n",
    "recurse(\"shiny gold\")\n",
    "solution = len(acc)\n",
    "#submit(solution, part=\"a\", day=7, year=2020)"
   ]
  },
  {
   "cell_type": "code",
   "execution_count": null,
   "metadata": {},
   "outputs": [],
   "source": [
    "def cost(color):\n",
    "    total = 0\n",
    "    for count, incolor in mapping_inverse[color]:\n",
    "        total += count\n",
    "        total += count * cost(incolor)\n",
    "    return total\n",
    "\n",
    "solution = cost('shiny gold')\n",
    "#submit(solution, part=\"b\", day=7, year=2020)"
   ]
  },
  {
   "cell_type": "markdown",
   "metadata": {},
   "source": [
    "## Day 8\n",
    "\n",
    "http://adventofcode.com/2020/day/8"
   ]
  },
  {
   "cell_type": "code",
   "execution_count": null,
   "metadata": {},
   "outputs": [],
   "source": [
    "content = Puzzle(year=2020, day=8).input_data.split(\"\\n\")\n",
    "content = mapl(str.split, content)\n",
    "content = mapl(lambda x: (x[0], int(x[1])), content)"
   ]
  },
  {
   "cell_type": "code",
   "execution_count": null,
   "metadata": {},
   "outputs": [],
   "source": [
    "def run(prog, return_loop=False):\n",
    "    acc = 0\n",
    "    ptr = 0\n",
    "    seen = set()\n",
    "    while 0 <= ptr < len(prog):\n",
    "        if ptr in seen:\n",
    "            return acc if return_loop else None\n",
    "\n",
    "        seen.add(ptr)\n",
    "\n",
    "        inst, arg = prog[ptr]\n",
    "        if inst == 'jmp':\n",
    "            ptr += arg\n",
    "            continue\n",
    "        if inst == 'acc':\n",
    "            acc += arg\n",
    "        if inst == 'nop':\n",
    "            pass\n",
    "\n",
    "        ptr += 1\n",
    "        \n",
    "    return acc\n",
    "\n",
    "solution = run(content, return_loop=True)\n",
    "#submit(solution, part=\"a\", day=8, year=2020)"
   ]
  },
  {
   "cell_type": "code",
   "execution_count": null,
   "metadata": {},
   "outputs": [],
   "source": [
    "for idx, (inst, arg) in enumerate(content):\n",
    "    prog = content[:]\n",
    "    \n",
    "    if inst == \"jmp\":\n",
    "        prog[idx] = (\"nop\", arg)\n",
    "    if inst == \"nop\":\n",
    "        prog[idx] = (\"jmp\", arg)\n",
    "    \n",
    "    if inst in [\"jmp\", \"nop\"]:\n",
    "        acc = run(prog)\n",
    "        if acc:\n",
    "            break\n",
    "\n",
    "#submit(acc, part=\"b\", day=8, year=2020)"
   ]
  },
  {
   "cell_type": "markdown",
   "metadata": {},
   "source": [
    "## Day 9\n",
    "\n",
    "http://adventofcode.com/2020/day/9"
   ]
  },
  {
   "cell_type": "code",
   "execution_count": null,
   "metadata": {},
   "outputs": [],
   "source": [
    "content = Puzzle(year=2020, day=9).input_data\n",
    "content"
   ]
  }
 ],
 "metadata": {
  "language_info": {
   "name": "python",
   "pygments_lexer": "ipython3"
  }
 },
 "nbformat": 4,
 "nbformat_minor": 2
}
