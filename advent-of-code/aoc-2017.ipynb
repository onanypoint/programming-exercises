{
 "cells": [
  {
   "cell_type": "code",
   "execution_count": null,
   "metadata": {},
   "outputs": [],
   "source": [
    "import itertools\n",
    "import collections\n",
    "import operator\n",
    "import sys\n",
    "import re\n",
    "import numpy as np\n",
    "import math"
   ]
  },
  {
   "cell_type": "markdown",
   "metadata": {},
   "source": [
    "# Helper Functions"
   ]
  },
  {
   "cell_type": "code",
   "execution_count": null,
   "metadata": {},
   "outputs": [],
   "source": [
    "def load_day(day):\n",
    "    return read_file(\"day{}.txt\".format(day))\n",
    "    \n",
    "def read_file(file):\n",
    "    return open(DIR + file,'r').readlines()\n",
    "\n",
    "def mapl(fn, *args):\n",
    "    return list(map(fn, *args))\n",
    "\n",
    "def first(l): \n",
    "    return next(iter(l))\n",
    "\n",
    "def is_unique(l):\n",
    "    return len(set(l)) == len(l)\n",
    "\n",
    "def is_prime(n):\n",
    "    return n > 1 and all(n%i for i in itertools.islice(itertools.count(2), int(math.sqrt(n)-1)))\n",
    "\n",
    "def sort(items):\n",
    "    cast = ''.join if isinstance(items, str) else tuple \n",
    "    return cast(sorted(items))\n",
    "\n",
    "def add_tuple(x,y):\n",
    "    return tuple(map(sum, zip(x,y)))"
   ]
  },
  {
   "cell_type": "markdown",
   "metadata": {},
   "source": [
    "Configuration"
   ]
  },
  {
   "cell_type": "code",
   "execution_count": null,
   "metadata": {},
   "outputs": [],
   "source": [
    "DIR = \"data/2017/\""
   ]
  },
  {
   "cell_type": "markdown",
   "metadata": {},
   "source": [
    "# Problems"
   ]
  },
  {
   "cell_type": "markdown",
   "metadata": {},
   "source": [
    "## Day 1\n",
    "\n",
    "http://adventofcode.com/2017/day/1\n"
   ]
  },
  {
   "cell_type": "code",
   "execution_count": null,
   "metadata": {},
   "outputs": [],
   "source": [
    "content = load_day(1)[0]\n",
    "captcha = mapl(int, content)"
   ]
  },
  {
   "cell_type": "markdown",
   "metadata": {},
   "source": [
    "__Part 1__"
   ]
  },
  {
   "cell_type": "code",
   "execution_count": null,
   "metadata": {},
   "outputs": [],
   "source": [
    "sum(d1 for d1, d2 in zip(captcha, captcha[1:] + [captcha[0]]) if d1 == d2)"
   ]
  },
  {
   "cell_type": "markdown",
   "metadata": {},
   "source": [
    "__Part 2__"
   ]
  },
  {
   "cell_type": "code",
   "execution_count": null,
   "metadata": {},
   "outputs": [],
   "source": [
    "mid_idx = len(captcha)//2\n",
    "sum(d1 for d1, d2 in zip(captcha, captcha[mid_idx:] + captcha[:mid_idx]) if d1 == d2)"
   ]
  },
  {
   "cell_type": "markdown",
   "metadata": {},
   "source": [
    "## Day 2\n",
    "http://adventofcode.com/2017/day/2"
   ]
  },
  {
   "cell_type": "code",
   "execution_count": null,
   "metadata": {},
   "outputs": [],
   "source": [
    "spreadsheet = load_day(2)\n",
    "spreadsheet = mapl(lambda x:mapl(int, x.split()), spreadsheet)"
   ]
  },
  {
   "cell_type": "markdown",
   "metadata": {},
   "source": [
    "__Part 1__"
   ]
  },
  {
   "cell_type": "code",
   "execution_count": null,
   "metadata": {},
   "outputs": [],
   "source": [
    "sum([max(v) - min(v) for v in spreadsheet])"
   ]
  },
  {
   "cell_type": "markdown",
   "metadata": {},
   "source": [
    "__Part 2__"
   ]
  },
  {
   "cell_type": "code",
   "execution_count": null,
   "metadata": {},
   "outputs": [],
   "source": [
    "def get_division_result(l):\n",
    "    combination = list(itertools.combinations(l, 2))\n",
    "    return first(max(x,y) // min(x,y) for (x,y) in combination if (x%y == 0 or y%x == 0))\n",
    "\n",
    "sum(mapl(get_division_result, spreadsheet))"
   ]
  },
  {
   "cell_type": "markdown",
   "metadata": {},
   "source": [
    "## Day 3\n",
    "http://adventofcode.com/2017/day/3"
   ]
  },
  {
   "cell_type": "code",
   "execution_count": null,
   "metadata": {},
   "outputs": [],
   "source": [
    "content = 368078"
   ]
  },
  {
   "cell_type": "markdown",
   "metadata": {},
   "source": [
    "__Part 1__"
   ]
  },
  {
   "cell_type": "code",
   "execution_count": null,
   "metadata": {},
   "outputs": [],
   "source": []
  },
  {
   "cell_type": "markdown",
   "metadata": {},
   "source": [
    "__Part 2__"
   ]
  },
  {
   "cell_type": "code",
   "execution_count": null,
   "metadata": {},
   "outputs": [],
   "source": []
  },
  {
   "cell_type": "markdown",
   "metadata": {},
   "source": [
    "## Day 4\n",
    "http://adventofcode.com/2017/day/4"
   ]
  },
  {
   "cell_type": "code",
   "execution_count": null,
   "metadata": {},
   "outputs": [],
   "source": [
    "content = load_day(4)\n",
    "content = mapl(str.split, content)"
   ]
  },
  {
   "cell_type": "markdown",
   "metadata": {},
   "source": [
    "__Part 1__"
   ]
  },
  {
   "cell_type": "code",
   "execution_count": null,
   "metadata": {},
   "outputs": [],
   "source": [
    "sum([len(v) == len(set(v)) for v in content])"
   ]
  },
  {
   "cell_type": "markdown",
   "metadata": {},
   "source": [
    "__Part 2__"
   ]
  },
  {
   "cell_type": "code",
   "execution_count": null,
   "metadata": {},
   "outputs": [],
   "source": [
    "tmp = [mapl(lambda x: \"\".join(sorted(x)), v) for v in content]\n",
    "sum([len(v) == len(set(v)) for v in tmp])"
   ]
  },
  {
   "cell_type": "markdown",
   "metadata": {},
   "source": [
    "## Day 5\n",
    "http://adventofcode.com/2017/day/5"
   ]
  },
  {
   "cell_type": "code",
   "execution_count": null,
   "metadata": {},
   "outputs": [],
   "source": [
    "program = mapl(int, load_day(5))"
   ]
  },
  {
   "cell_type": "code",
   "execution_count": null,
   "metadata": {},
   "outputs": [],
   "source": [
    "def run(program, jump_fn):\n",
    "    program = list(program)\n",
    "    pos = count = 0\n",
    "    while pos < len(program):\n",
    "        offset = program[pos]\n",
    "        program[pos] += jump_fn(offset)\n",
    "        pos = pos + offset\n",
    "        count += 1\n",
    "        \n",
    "    return count"
   ]
  },
  {
   "cell_type": "markdown",
   "metadata": {},
   "source": [
    "__Part 1__"
   ]
  },
  {
   "cell_type": "code",
   "execution_count": null,
   "metadata": {},
   "outputs": [],
   "source": [
    "run(program, lambda _: 1)"
   ]
  },
  {
   "cell_type": "markdown",
   "metadata": {},
   "source": [
    "__Part 2__"
   ]
  },
  {
   "cell_type": "code",
   "execution_count": null,
   "metadata": {},
   "outputs": [],
   "source": [
    "run(program, lambda offset: -1 if offset >= 3 else 1)"
   ]
  },
  {
   "cell_type": "markdown",
   "metadata": {},
   "source": [
    "## Day 6 \n",
    "http://adventofcode.com/2017/day/6"
   ]
  },
  {
   "cell_type": "code",
   "execution_count": null,
   "metadata": {},
   "outputs": [],
   "source": [
    "banks = mapl(int, load_day(6)[0].split())"
   ]
  },
  {
   "cell_type": "code",
   "execution_count": null,
   "metadata": {},
   "outputs": [],
   "source": [
    "v = list(banks)\n",
    "count = 0\n",
    "\n",
    "def redistribute():\n",
    "    idx = v.index(max(v))\n",
    "    c_value = v[idx]\n",
    "    v[idx] = 0\n",
    "    while c_value > 0:\n",
    "        idx += 1\n",
    "        v[idx%len(v)] += 1\n",
    "        c_value -= 1\n",
    "\n",
    "seen = []\n",
    "while True:\n",
    "    count += 1\n",
    "    redistribute()\n",
    "    h = hash(str(v))\n",
    "    if h in seen:\n",
    "        break\n",
    "    else:\n",
    "        seen.append(h)    "
   ]
  },
  {
   "cell_type": "markdown",
   "metadata": {},
   "source": [
    "__Part 1__ "
   ]
  },
  {
   "cell_type": "code",
   "execution_count": null,
   "metadata": {},
   "outputs": [],
   "source": [
    "count"
   ]
  },
  {
   "cell_type": "markdown",
   "metadata": {},
   "source": [
    "__Part 2__"
   ]
  },
  {
   "cell_type": "code",
   "execution_count": null,
   "metadata": {},
   "outputs": [],
   "source": [
    "len(seen) - seen.index(hash(str(v)))"
   ]
  },
  {
   "cell_type": "markdown",
   "metadata": {},
   "source": [
    "## Day 7\n",
    "http://adventofcode.com/2017/day/7"
   ]
  },
  {
   "cell_type": "code",
   "execution_count": null,
   "metadata": {
    "scrolled": true
   },
   "outputs": [],
   "source": [
    "content = load_day(7)"
   ]
  },
  {
   "cell_type": "code",
   "execution_count": null,
   "metadata": {},
   "outputs": [],
   "source": [
    "weights = {}\n",
    "childs = {}\n",
    "\n",
    "def parse(line):\n",
    "    name, weight, children = re.search(\"(\\w*).*\\((\\d*)\\)(?:.*-> (.*))?\", line).groups()\n",
    "    weights[name] = int(weight)\n",
    "    childs[name] = children.split(\", \") if children else []\n",
    "    \n",
    "_= mapl(parse, content)"
   ]
  },
  {
   "cell_type": "markdown",
   "metadata": {},
   "source": [
    "__Part 1__ "
   ]
  },
  {
   "cell_type": "markdown",
   "metadata": {},
   "source": [
    "To know the bottom program we just search for the name which has child but is not a child of another program."
   ]
  },
  {
   "cell_type": "code",
   "execution_count": null,
   "metadata": {},
   "outputs": [],
   "source": [
    "childs.keys() - [name for child in childs.values() for name in child]"
   ]
  },
  {
   "cell_type": "markdown",
   "metadata": {},
   "source": [
    "__Part 2__ "
   ]
  },
  {
   "cell_type": "code",
   "execution_count": null,
   "metadata": {},
   "outputs": [],
   "source": [
    "def check_balance(name):\n",
    "    weight = weights[name]\n",
    "    child_weights = [check_balance(n) for n in childs.get(name, [])]\n",
    "    \n",
    "    if len(set(child_weights)) > 1:\n",
    "        print(\"{} - {}\".format(child_weights, [weights[n] for n in childs.get(name, [])]))\n",
    "        \n",
    "    return weight + sum(child_weights)"
   ]
  },
  {
   "cell_type": "markdown",
   "metadata": {},
   "source": [
    "We just search for discrepencies in the weight (left array). When we find one, we just substract from the right array the necessary quantity to make every value the same."
   ]
  },
  {
   "cell_type": "code",
   "execution_count": null,
   "metadata": {},
   "outputs": [],
   "source": [
    "check_balance('wiapj')"
   ]
  },
  {
   "cell_type": "markdown",
   "metadata": {},
   "source": [
    "## Day 8\n",
    "http://adventofcode.com/2017/day/8"
   ]
  },
  {
   "cell_type": "code",
   "execution_count": null,
   "metadata": {},
   "outputs": [],
   "source": [
    "content = load_day(8)\n",
    "content = mapl(str.split, content)"
   ]
  },
  {
   "cell_type": "code",
   "execution_count": null,
   "metadata": {},
   "outputs": [],
   "source": [
    "operations = {\n",
    "    \"==\" : operator.eq,\n",
    "    \">\" : operator.gt,\n",
    "    \">=\": operator.ge,\n",
    "    \"<\" : operator.lt,\n",
    "    \"<=\": operator.le,\n",
    "    \"!=\" : operator.ne,\n",
    "    \"dec\": operator.sub,\n",
    "    \"inc\": operator.add,\n",
    "}"
   ]
  },
  {
   "cell_type": "code",
   "execution_count": null,
   "metadata": {},
   "outputs": [],
   "source": [
    "register = {}\n",
    "current_max = 0\n",
    "\n",
    "for instruction in content:\n",
    "    reg, instr, val, _, cond_reg, cond, cond_val = instruction\n",
    "    \n",
    "    if operations[cond](register.get(cond_reg, 0), int(cond_val)):\n",
    "        \n",
    "        if reg not in register:\n",
    "            register[reg] = 0\n",
    "        \n",
    "        register[reg] = operations[instr](register[reg], int(val))\n",
    "        \n",
    "        if register[reg]>current_max:\n",
    "            current_max = register[reg]"
   ]
  },
  {
   "cell_type": "markdown",
   "metadata": {},
   "source": [
    "__Part 1__ "
   ]
  },
  {
   "cell_type": "code",
   "execution_count": null,
   "metadata": {},
   "outputs": [],
   "source": [
    "register[max(register, key=register.get)]"
   ]
  },
  {
   "cell_type": "markdown",
   "metadata": {},
   "source": [
    "__Part 2__ "
   ]
  },
  {
   "cell_type": "code",
   "execution_count": null,
   "metadata": {},
   "outputs": [],
   "source": [
    "current_max"
   ]
  },
  {
   "cell_type": "markdown",
   "metadata": {},
   "source": [
    "## Day 9\n",
    "http://adventofcode.com/2017/day/9"
   ]
  },
  {
   "cell_type": "code",
   "execution_count": null,
   "metadata": {},
   "outputs": [],
   "source": [
    "string = load_day(9)[0]\n",
    "string = re.sub(\"!.\", \"\", string)\n",
    "clean = re.sub(\"<.*?>\", \"\", string)"
   ]
  },
  {
   "cell_type": "code",
   "execution_count": null,
   "metadata": {},
   "outputs": [],
   "source": [
    "total = 0\n",
    "level = 0 \n",
    "for c in clean:\n",
    "    if c is \"{\":\n",
    "        level += 1\n",
    "        total += level\n",
    "    elif c is \"}\":\n",
    "        \n",
    "        level += -1  "
   ]
  },
  {
   "cell_type": "markdown",
   "metadata": {},
   "source": [
    "__Part 1__ "
   ]
  },
  {
   "cell_type": "code",
   "execution_count": null,
   "metadata": {},
   "outputs": [],
   "source": [
    "total"
   ]
  },
  {
   "cell_type": "markdown",
   "metadata": {},
   "source": [
    "__Part 2__ "
   ]
  },
  {
   "cell_type": "code",
   "execution_count": null,
   "metadata": {},
   "outputs": [],
   "source": [
    "len(string) - len(re.sub(r'<.*?>', '<>', string))"
   ]
  },
  {
   "cell_type": "markdown",
   "metadata": {},
   "source": [
    "## Day 10\n",
    "http://adventofcode.com/2017/day/10"
   ]
  },
  {
   "cell_type": "code",
   "execution_count": null,
   "metadata": {},
   "outputs": [],
   "source": [
    "content = load_day(10)[0]\n",
    "lengths_p1 = mapl(int, content.split(\",\"))\n",
    "lengths_p2 = mapl(ord, content.strip()) + [17, 31, 73, 47, 23]"
   ]
  },
  {
   "cell_type": "markdown",
   "metadata": {},
   "source": [
    "__Part 1__ "
   ]
  },
  {
   "cell_type": "code",
   "execution_count": null,
   "metadata": {},
   "outputs": [],
   "source": []
  },
  {
   "cell_type": "markdown",
   "metadata": {},
   "source": [
    "__Part 2__ "
   ]
  },
  {
   "cell_type": "code",
   "execution_count": null,
   "metadata": {},
   "outputs": [],
   "source": []
  },
  {
   "cell_type": "markdown",
   "metadata": {},
   "source": [
    "## Day 11 :  Hex Ed\n",
    "http://adventofcode.com/2017/day/11"
   ]
  },
  {
   "cell_type": "code",
   "execution_count": null,
   "metadata": {},
   "outputs": [],
   "source": [
    "content = load_day(11)\n",
    "directions = content[0].split(\",\")"
   ]
  },
  {
   "cell_type": "code",
   "execution_count": null,
   "metadata": {},
   "outputs": [],
   "source": [
    "MOVES = {\n",
    "    \"n\" : ( 0, 1,-1),\n",
    "    \"nw\": (-1, 1, 0),\n",
    "    \"sw\": (-1, 0, 1),\n",
    "    \"s\" : ( 0,-1, 1),\n",
    "    \"se\": ( 1,-1, 0),\n",
    "    \"ne\": ( 1, 0,-1),\n",
    "}\n",
    "\n",
    "pos = (0,0,0)\n",
    "\n",
    "distances = []\n",
    "for m in directions:\n",
    "    pos = tuple(map(sum, zip(pos,MOVES[m])))\n",
    "    distances.append(sum(map(abs, pos)) / 2)"
   ]
  },
  {
   "cell_type": "markdown",
   "metadata": {},
   "source": [
    "__Part 1__ "
   ]
  },
  {
   "cell_type": "code",
   "execution_count": null,
   "metadata": {},
   "outputs": [],
   "source": [
    "sum(map(abs,pos)) / 2"
   ]
  },
  {
   "cell_type": "markdown",
   "metadata": {},
   "source": [
    "__Part 2__ "
   ]
  },
  {
   "cell_type": "code",
   "execution_count": null,
   "metadata": {},
   "outputs": [],
   "source": [
    "max(distances)"
   ]
  },
  {
   "cell_type": "markdown",
   "metadata": {},
   "source": [
    "## Day 12 : Digital Plumber\n",
    "http://adventofcode.com/2017/day/12"
   ]
  },
  {
   "cell_type": "code",
   "execution_count": null,
   "metadata": {},
   "outputs": [],
   "source": [
    "content = load_day(12)"
   ]
  },
  {
   "cell_type": "code",
   "execution_count": null,
   "metadata": {},
   "outputs": [],
   "source": [
    "stack = {}\n",
    "for line in content:\n",
    "    name, children = re.search(\"(\\d*) <-> (.*)?\", line).groups()\n",
    "    children = mapl(int, children.split(\",\"))\n",
    "    stack[int(name)] = children"
   ]
  },
  {
   "cell_type": "markdown",
   "metadata": {},
   "source": [
    "__Part 1__ "
   ]
  },
  {
   "cell_type": "code",
   "execution_count": null,
   "metadata": {},
   "outputs": [],
   "source": [
    "programs = []\n",
    "\n",
    "def traverse(name):\n",
    "    if name not in programs:\n",
    "        programs.append(name)\n",
    "        for child in stack[name]:\n",
    "            traverse(child)\n",
    "\n",
    "traverse(0)   "
   ]
  },
  {
   "cell_type": "code",
   "execution_count": null,
   "metadata": {},
   "outputs": [],
   "source": [
    "len(programs)"
   ]
  },
  {
   "cell_type": "markdown",
   "metadata": {},
   "source": [
    "__Part 2__ "
   ]
  },
  {
   "cell_type": "code",
   "execution_count": null,
   "metadata": {},
   "outputs": [],
   "source": [
    "count = 0\n",
    "\n",
    "while len(stack) > 0:\n",
    "    programs = []\n",
    "\n",
    "    def traverse(name):\n",
    "        if name not in programs:\n",
    "            programs.append(name)\n",
    "            for child in stack[name]:\n",
    "                traverse(child)\n",
    "    \n",
    "    count += 1\n",
    "    traverse(list(stack.keys())[0]) \n",
    "    \n",
    "    for prog in programs:\n",
    "        del stack[prog]"
   ]
  },
  {
   "cell_type": "code",
   "execution_count": null,
   "metadata": {},
   "outputs": [],
   "source": [
    "count"
   ]
  },
  {
   "cell_type": "markdown",
   "metadata": {},
   "source": [
    "## Day 13: Packet Scanners\n",
    "http://adventofcode.com/2017/day/13"
   ]
  },
  {
   "cell_type": "code",
   "execution_count": null,
   "metadata": {},
   "outputs": [],
   "source": [
    "content = load_day(13)\n",
    "scanners = [mapl(int,tuple(line.strip().split(\": \"))) for line in content]"
   ]
  },
  {
   "cell_type": "code",
   "execution_count": null,
   "metadata": {},
   "outputs": [],
   "source": [
    "def caught(depth, rng, delay=0):\n",
    "    return ((depth + delay) % (2 * rng - 2)) == 0"
   ]
  },
  {
   "cell_type": "markdown",
   "metadata": {},
   "source": [
    "__Part 1__ "
   ]
  },
  {
   "cell_type": "code",
   "execution_count": null,
   "metadata": {},
   "outputs": [],
   "source": [
    "sum([operator.mul(*layer) for layer in scanners if caught(*layer)])"
   ]
  },
  {
   "cell_type": "markdown",
   "metadata": {},
   "source": [
    "__Part 2__ "
   ]
  },
  {
   "cell_type": "code",
   "execution_count": null,
   "metadata": {},
   "outputs": [],
   "source": [
    "delay = 0\n",
    "while True:\n",
    "    if not any(caught(*layer, delay) for layer in scanners):\n",
    "        break\n",
    "    delay += 1\n",
    "\n",
    "delay"
   ]
  },
  {
   "cell_type": "markdown",
   "metadata": {},
   "source": [
    "## Day 14\n",
    "http://adventofcode.com/2017/day/14"
   ]
  },
  {
   "cell_type": "code",
   "execution_count": null,
   "metadata": {},
   "outputs": [],
   "source": [
    "content = \"hfdlxzhv\""
   ]
  },
  {
   "cell_type": "markdown",
   "metadata": {},
   "source": [
    "__Part 1__ "
   ]
  },
  {
   "cell_type": "code",
   "execution_count": null,
   "metadata": {},
   "outputs": [],
   "source": []
  },
  {
   "cell_type": "markdown",
   "metadata": {},
   "source": [
    "__Part 2__ "
   ]
  },
  {
   "cell_type": "code",
   "execution_count": null,
   "metadata": {},
   "outputs": [],
   "source": []
  },
  {
   "cell_type": "markdown",
   "metadata": {},
   "source": [
    "## Day 15\n",
    "http://adventofcode.com/2017/day/15"
   ]
  },
  {
   "cell_type": "code",
   "execution_count": null,
   "metadata": {},
   "outputs": [],
   "source": [
    "def gen(start, factor, multiple=1):\n",
    "    while True:\n",
    "        start = (start*factor) % 2147483647\n",
    "        if start % multiple == 0:\n",
    "            yield start\n",
    "        \n",
    "def compare(i, j):\n",
    "    def form(v):\n",
    "        return \"{0:016b}\".format(v)[-16:]\n",
    "    return form(i) == form(j)"
   ]
  },
  {
   "cell_type": "markdown",
   "metadata": {},
   "source": [
    "__Part 1__ "
   ]
  },
  {
   "cell_type": "code",
   "execution_count": null,
   "metadata": {},
   "outputs": [],
   "source": [
    "genA = gen(722, 16807)\n",
    "genB = gen(354, 48271)\n",
    "total = 0\n",
    "for _ in range(40000000):\n",
    "    total += compare(next(genA), next(genB))"
   ]
  },
  {
   "cell_type": "code",
   "execution_count": null,
   "metadata": {},
   "outputs": [],
   "source": [
    "total"
   ]
  },
  {
   "cell_type": "markdown",
   "metadata": {},
   "source": [
    "__Part 2__ "
   ]
  },
  {
   "cell_type": "code",
   "execution_count": null,
   "metadata": {},
   "outputs": [],
   "source": [
    "genA = gen(722, 16807, 4)\n",
    "genB = gen(354, 48271, 8)\n",
    "total = 0\n",
    "for _ in range(5000000):\n",
    "    total += compare(next(genA), next(genB))"
   ]
  },
  {
   "cell_type": "code",
   "execution_count": null,
   "metadata": {},
   "outputs": [],
   "source": [
    "total"
   ]
  },
  {
   "cell_type": "markdown",
   "metadata": {},
   "source": [
    "## Day 16\n",
    "http://adventofcode.com/2017/day/16"
   ]
  },
  {
   "cell_type": "code",
   "execution_count": null,
   "metadata": {},
   "outputs": [],
   "source": [
    "content = load_day(16)[0].split(\",\")\n",
    "start = \"abcdefghijklmnop\"\n",
    "\n",
    "def spin(prog, i):\n",
    "    return prog[-i:] + prog[:-i]\n",
    "\n",
    "def exchange(prog, i, j):\n",
    "    prog[i], prog[j] = prog[j], prog[i]\n",
    "    return prog \n",
    "\n",
    "def partner(prog, i, j):\n",
    "    idxi = prog.index(i)\n",
    "    idxj = prog.index(j)\n",
    "    prog[idxi] = j\n",
    "    prog[idxj] = i\n",
    "    return prog\n",
    "\n",
    "def apply(move, prog):\n",
    "    a, i, j = re.search(\"(\\w)([a-p0-9]*)(?:/([a-p0-9]*))?\", move).groups()\n",
    "    if a == \"s\":\n",
    "        prog = spin(prog, int(i)) \n",
    "    if a == \"x\":\n",
    "        prog = exchange(prog, int(i), int(j)) \n",
    "    if a == \"p\":\n",
    "        prog = partner(prog, i, j) \n",
    "    \n",
    "    return prog\n",
    "\n",
    "def dance(start, moves):\n",
    "    prog = list(start)\n",
    "    for move in moves:\n",
    "        prog = apply(move, prog)\n",
    "    return \"\".join(prog)"
   ]
  },
  {
   "cell_type": "markdown",
   "metadata": {},
   "source": [
    "__Part 1__ "
   ]
  },
  {
   "cell_type": "code",
   "execution_count": null,
   "metadata": {},
   "outputs": [],
   "source": [
    "dance(\"abcdefghijklmnop\", content)"
   ]
  },
  {
   "cell_type": "markdown",
   "metadata": {},
   "source": [
    "__Part 2__ "
   ]
  },
  {
   "cell_type": "code",
   "execution_count": null,
   "metadata": {},
   "outputs": [],
   "source": [
    "prog = \"abcdefghijklmnop\"\n",
    "seen = [prog]\n",
    "i = 0\n",
    "while True:\n",
    "    prog = dance(prog, content)\n",
    "    if prog in seen:\n",
    "        break\n",
    "    seen.append(prog)\n",
    "    i = i+1\n",
    "\n",
    "print(\"repetition after\", i)"
   ]
  },
  {
   "cell_type": "code",
   "execution_count": null,
   "metadata": {},
   "outputs": [],
   "source": [
    "prog = \"abcdefghijklmnop\"\n",
    "for _ in range(int(1e9 % (i+1))):\n",
    "    prog = dance(prog, content)\n",
    "\n",
    "print(prog)"
   ]
  },
  {
   "cell_type": "markdown",
   "metadata": {},
   "source": [
    "## Day 17: Spinlock\n",
    "http://adventofcode.com/2017/day/17"
   ]
  },
  {
   "cell_type": "code",
   "execution_count": null,
   "metadata": {},
   "outputs": [],
   "source": [
    "steps = 371"
   ]
  },
  {
   "cell_type": "markdown",
   "metadata": {},
   "source": [
    "__Part 1__ "
   ]
  },
  {
   "cell_type": "code",
   "execution_count": null,
   "metadata": {},
   "outputs": [],
   "source": [
    "buffer = [0]\n",
    "pos = 0\n",
    "for i in range(1, 2017 + 1):\n",
    "    new_pos = ((pos+steps) % len(buffer)) + 1\n",
    "    buffer.insert(new_pos, i)\n",
    "    pos = new_pos\n",
    "    \n",
    "print(buffer[pos+1])"
   ]
  },
  {
   "cell_type": "markdown",
   "metadata": {},
   "source": [
    "__Part 2__ "
   ]
  },
  {
   "cell_type": "code",
   "execution_count": null,
   "metadata": {},
   "outputs": [],
   "source": [
    "# Super slow\n",
    "i = 0\n",
    "for t in range(1,50000000+1):\n",
    "    i = (i+steps)%t + 1\n",
    "    if i==1:\n",
    "        val_after_0 = t\n",
    "\n",
    "val_after_0"
   ]
  },
  {
   "cell_type": "markdown",
   "metadata": {},
   "source": [
    "## Day 18\n",
    "http://adventofcode.com/2017/day/18"
   ]
  },
  {
   "cell_type": "code",
   "execution_count": null,
   "metadata": {},
   "outputs": [],
   "source": [
    "content = load_day(18)"
   ]
  },
  {
   "cell_type": "markdown",
   "metadata": {},
   "source": [
    "__Part 1__ "
   ]
  },
  {
   "cell_type": "code",
   "execution_count": null,
   "metadata": {},
   "outputs": [],
   "source": [
    "registers = collections.defaultdict(int)\n",
    "def get(key):\n",
    "    try:\n",
    "        return int(key)\n",
    "    except:\n",
    "        return registers[key]\n",
    "\n",
    "i = 0\n",
    "sound = -1\n",
    "while i < len(content):\n",
    "    a,X,Y = re.search(\"(\\w*) (\\w)(?: (.*))?\", content[i]).groups()\n",
    "    if a == \"snd\":\n",
    "        sound = get(X)\n",
    "    elif a == \"set\":\n",
    "        registers[X] = get(Y)\n",
    "    elif a == \"add\":\n",
    "        registers[X] = registers[X] + get(Y)\n",
    "    elif a == \"mul\":\n",
    "        registers[X] = registers[X] * get(Y)\n",
    "    elif a == \"mod\":\n",
    "        registers[X] = registers[X] % get(Y)\n",
    "    elif a == \"rcv\" and get(X) != 0:\n",
    "        break\n",
    "    elif a == \"jgz\" and get(X) > 0:\n",
    "        i += get(Y) - 1\n",
    "    \n",
    "    i += 1\n",
    "\n",
    "sound"
   ]
  },
  {
   "cell_type": "markdown",
   "metadata": {},
   "source": [
    "__Part 2__ "
   ]
  },
  {
   "cell_type": "code",
   "execution_count": null,
   "metadata": {
    "scrolled": false
   },
   "outputs": [],
   "source": [
    "class Program:\n",
    "    def __init__(self, id, code):\n",
    "        self.id = id\n",
    "        self.registers = collections.defaultdict(int)\n",
    "        self.registers[\"p\"] = self.id\n",
    "        self.queue = []\n",
    "        self.code = code\n",
    "        self.current_instr = 0\n",
    "        self.other = None\n",
    "        self.total = 0\n",
    "        \n",
    "    def _get(self, key):\n",
    "        try:\n",
    "            return int(key)\n",
    "        except:\n",
    "            return self.registers[key]\n",
    "        \n",
    "    def add(self, val):\n",
    "        self.queue.insert(0, val)\n",
    "        \n",
    "    def step(self):\n",
    "\n",
    "        if self.current_instr >= len(self.code):\n",
    "            return True\n",
    "        \n",
    "        a,X,Y = re.search(\"(\\w*) (\\w)(?: (.*))?\", self.code[self.current_instr]).groups()\n",
    "        #print(a,X,Y)\n",
    "        \n",
    "        if a == \"snd\":\n",
    "            self.other.add(self._get(X))\n",
    "            self.total += 1\n",
    "        elif a == \"set\":\n",
    "            self.registers[X] = self._get(Y)\n",
    "        elif a == \"add\":\n",
    "            self.registers[X] = self.registers[X] + self._get(Y)\n",
    "        elif a == \"mul\":\n",
    "            self.registers[X] = self.registers[X] * self._get(Y)\n",
    "        elif a == \"mod\":\n",
    "            self.registers[X] = self.registers[X] % self._get(Y)\n",
    "        elif a == \"rcv\":\n",
    "            if len(self.queue) > 0:\n",
    "                self.registers[X] = self.queue.pop()\n",
    "            else:\n",
    "                return True\n",
    "        elif a == \"jgz\" and self._get(X) > 0:\n",
    "            self.current_instr += self._get(Y)-1\n",
    "        \n",
    "        self.current_instr += 1\n",
    "        return False\n",
    "        "
   ]
  },
  {
   "cell_type": "code",
   "execution_count": null,
   "metadata": {},
   "outputs": [],
   "source": [
    "p0 = Program(0, content)\n",
    "p1 = Program(1, content)\n",
    "\n",
    "p0.other = p1\n",
    "p1.other = p0\n",
    "\n",
    "while True:\n",
    "    p0_done = p0.step()\n",
    "    p1_done = p1.step()\n",
    "    \n",
    "    if p0_done:\n",
    "        break\n",
    "\n",
    "p1.total"
   ]
  },
  {
   "cell_type": "markdown",
   "metadata": {},
   "source": [
    "## Day 19\n",
    "http://adventofcode.com/2017/day/19"
   ]
  },
  {
   "cell_type": "code",
   "execution_count": null,
   "metadata": {},
   "outputs": [],
   "source": [
    "content = mapl(list,load_day(19))\n",
    "start_pos = (0, content[0].index(\"|\"))\n",
    "array = np.array(content)"
   ]
  },
  {
   "cell_type": "code",
   "execution_count": null,
   "metadata": {},
   "outputs": [],
   "source": [
    "MOVES = {\n",
    "    \"N\":(-1,0),\n",
    "    \"S\":(1,0),\n",
    "    \"E\":(0,1),\n",
    "    \"W\":(0,-1),\n",
    "}\n",
    "\n",
    "MOVES_CHAR = {\n",
    "    \"N\":\"|\",\n",
    "    \"S\":\"|\",\n",
    "    \"E\":\"-\",\n",
    "    \"W\":\"-\",\n",
    "}\n",
    "\n",
    "MOVES_REVERT = {\n",
    "    \"N\":\"S\",\n",
    "    \"S\":\"N\",\n",
    "    \"E\":\"W\",\n",
    "    \"W\":\"E\",\n",
    "}\n",
    "\n",
    "pos = start_pos\n",
    "direction = \"S\"\n",
    "letters = \"\"\n",
    "count = 0\n",
    "\n",
    "while True:\n",
    "    val = array[pos]\n",
    "    if val == \"|\" or val == \"-\":\n",
    "        pos = add_tuple(pos, MOVES[direction])\n",
    "    \n",
    "    elif val == \"+\":\n",
    "        for m in MOVES.keys():\n",
    "            if m is not MOVES_REVERT[direction]:\n",
    "                tmp = add_tuple(pos, MOVES[m])\n",
    "                if array[tmp] == MOVES_CHAR[m]:\n",
    "                    pos = tmp\n",
    "                    direction = m\n",
    "                    break   \n",
    "                    \n",
    "    elif val != \" \":\n",
    "        letters += val\n",
    "        pos = add_tuple(pos, MOVES[direction])\n",
    "    \n",
    "    count = count + 1\n",
    "    \n",
    "    # Cheat, know from prior test that N is the last letter...\n",
    "    if val == \"N\":\n",
    "        break\n",
    "        "
   ]
  },
  {
   "cell_type": "markdown",
   "metadata": {},
   "source": [
    "__Part 1__ "
   ]
  },
  {
   "cell_type": "code",
   "execution_count": null,
   "metadata": {},
   "outputs": [],
   "source": [
    "letters"
   ]
  },
  {
   "cell_type": "markdown",
   "metadata": {},
   "source": [
    "__Part 2__ "
   ]
  },
  {
   "cell_type": "code",
   "execution_count": null,
   "metadata": {},
   "outputs": [],
   "source": [
    "count"
   ]
  },
  {
   "cell_type": "markdown",
   "metadata": {},
   "source": [
    "## Day 20\n",
    "http://adventofcode.com/2017/day/20"
   ]
  },
  {
   "cell_type": "code",
   "execution_count": null,
   "metadata": {},
   "outputs": [],
   "source": [
    "content = load_day(20)"
   ]
  },
  {
   "cell_type": "code",
   "execution_count": null,
   "metadata": {},
   "outputs": [],
   "source": [
    "def process(v):\n",
    "    return tuple(mapl(int, v.split(\",\")))\n",
    "\n",
    "# Quiet long to run but does the job done...\n",
    "def update(particles, cleanup=False):\n",
    "    # Update\n",
    "    for i, (p,v,a) in enumerate(particles):\n",
    "        v = add_tuple(v,a)\n",
    "        p = add_tuple(p,v)\n",
    "        particles[i] = [p,v,a]\n",
    "    \n",
    "    # Cleanup\n",
    "    if cleanup:\n",
    "        positions = np.array(particles)[:,0]\n",
    "        uniques, counts = np.unique(positions, axis=0, return_counts=True)\n",
    "        return [[p,v,a] for p,v,a in particles if p in uniques[counts == 1]]\n",
    "      "
   ]
  },
  {
   "cell_type": "markdown",
   "metadata": {},
   "source": [
    "__Part 1__ "
   ]
  },
  {
   "cell_type": "code",
   "execution_count": null,
   "metadata": {},
   "outputs": [],
   "source": [
    "particles = []\n",
    "for i, part in enumerate(content):\n",
    "    p, va, a = re.search(\"p=<(.*)>, v=<(.*)>, a=<(.*)>\", part).groups()\n",
    "    particles.append([process(p), process(v), process(a)])\n",
    "\n",
    "for i in range(1000):\n",
    "    update(particles)"
   ]
  },
  {
   "cell_type": "code",
   "execution_count": null,
   "metadata": {},
   "outputs": [],
   "source": [
    "np.argmin(mapl(lambda x: sum(mapl(abs, x[0])), particles))"
   ]
  },
  {
   "cell_type": "markdown",
   "metadata": {},
   "source": [
    "__Part 2__ "
   ]
  },
  {
   "cell_type": "code",
   "execution_count": null,
   "metadata": {},
   "outputs": [],
   "source": [
    "particles = []\n",
    "for i, part in enumerate(content):\n",
    "    p, v, a = re.search(\"p=<(.*)>, v=<(.*)>, a=<(.*)>\", part).groups()\n",
    "    particles.append([process(p), process(v), process(a)])"
   ]
  },
  {
   "cell_type": "code",
   "execution_count": null,
   "metadata": {},
   "outputs": [],
   "source": [
    "for i in range(1000):\n",
    "    if i % 100 == 0: print(\"/\", end=\"\")\n",
    "    particles = update(particles, True)"
   ]
  },
  {
   "cell_type": "code",
   "execution_count": null,
   "metadata": {},
   "outputs": [],
   "source": [
    "len(particles)"
   ]
  },
  {
   "cell_type": "markdown",
   "metadata": {},
   "source": [
    "## Day 21\n",
    "http://adventofcode.com/2017/day/21"
   ]
  },
  {
   "cell_type": "code",
   "execution_count": null,
   "metadata": {},
   "outputs": [],
   "source": []
  },
  {
   "cell_type": "markdown",
   "metadata": {},
   "source": [
    "__Part 1__ "
   ]
  },
  {
   "cell_type": "code",
   "execution_count": null,
   "metadata": {},
   "outputs": [],
   "source": []
  },
  {
   "cell_type": "markdown",
   "metadata": {},
   "source": [
    "__Part 2__ "
   ]
  },
  {
   "cell_type": "code",
   "execution_count": null,
   "metadata": {},
   "outputs": [],
   "source": []
  },
  {
   "cell_type": "markdown",
   "metadata": {},
   "source": [
    "## Day 22\n",
    "http://adventofcode.com/2017/day/22"
   ]
  },
  {
   "cell_type": "code",
   "execution_count": null,
   "metadata": {},
   "outputs": [],
   "source": [
    "content = load_day(22)\n",
    "#content = [\"..#\\n\", \"#..\\n\",\"...\"]\n",
    "content = np.array(mapl(lambda x : list(x.strip()), content))"
   ]
  },
  {
   "cell_type": "markdown",
   "metadata": {},
   "source": [
    "__Part 1__ "
   ]
  },
  {
   "cell_type": "code",
   "execution_count": null,
   "metadata": {},
   "outputs": [],
   "source": [
    "offsety = int(content.shape[0]/2)\n",
    "offsetx = int(content.shape[1]/2)\n",
    "\n",
    "# Prepare grid\n",
    "infected = set()\n",
    "for y, row in enumerate(content):\n",
    "    for x, value in enumerate(row):\n",
    "        if content[y,x] == \"#\":\n",
    "            infected.add((x-offsetx,y-offsety))\n",
    "\n",
    "pos = (0,0)\n",
    "direction = 0 #S=0, E=1, N=2, W=3\n",
    "count = 0\n",
    "for i in range(10000):\n",
    "    if pos in infected:\n",
    "        direction = (direction + 1) % 4\n",
    "        infected.remove(pos)\n",
    "    else:\n",
    "        direction = (direction - 1) % 4\n",
    "        infected.add(pos)\n",
    "        count += 1\n",
    "\n",
    "    pos = add_tuple(pos, MOVES[direction])\n",
    "\n",
    "count"
   ]
  },
  {
   "cell_type": "markdown",
   "metadata": {},
   "source": [
    "__Part 2__ "
   ]
  },
  {
   "cell_type": "code",
   "execution_count": null,
   "metadata": {},
   "outputs": [],
   "source": [
    "offsety = int(content.shape[0]/2)\n",
    "offsetx = int(content.shape[1]/2)\n",
    "\n",
    "# Prepare grid\n",
    "# 0=clean, 1=weakend, 2=infected, 3=flagged\n",
    "states = {}\n",
    "for y, row in enumerate(content):\n",
    "    for x, value in enumerate(row):\n",
    "        if content[y,x] == \"#\":\n",
    "            states[(x-offsetx,y-offsety)] = 2\n",
    "\n",
    "pos = (0,0)\n",
    "direction = 0 #S=0, E=1, N=2, W=3\n",
    "count = 0\n",
    "\n",
    "for i in range(10000000):\n",
    "    state = states.get(pos, 0)\n",
    "    states[pos] = (state + 1) % 4\n",
    "    \n",
    "    if state == 0:  \n",
    "        direction = (direction - 1) % 4\n",
    "    elif state == 1:\n",
    "        count += 1\n",
    "    elif state == 2:\n",
    "        direction = (direction + 1) % 4\n",
    "    elif state == 3:\n",
    "        direction = (direction + 2) % 4\n",
    "\n",
    "    pos = add_tuple(pos, MOVES[direction])  \n",
    "\n",
    "count"
   ]
  },
  {
   "cell_type": "markdown",
   "metadata": {},
   "source": [
    "## Day 23\n",
    "http://adventofcode.com/2017/day/23"
   ]
  },
  {
   "cell_type": "code",
   "execution_count": null,
   "metadata": {},
   "outputs": [],
   "source": [
    "content = load_day(23)"
   ]
  },
  {
   "cell_type": "markdown",
   "metadata": {},
   "source": [
    "__Part 1__ "
   ]
  },
  {
   "cell_type": "code",
   "execution_count": null,
   "metadata": {},
   "outputs": [],
   "source": [
    "registers = collections.defaultdict(int)\n",
    "registers[\"a\"] =1\n",
    "def get(key):\n",
    "    try:\n",
    "        return int(key)\n",
    "    except:\n",
    "        return registers[key]\n",
    "\n",
    "i = 0\n",
    "count = 0\n",
    "while i < len(content):\n",
    "    a,X,Y = re.search(\"(\\w*) (\\w)(?: (.*))?\", content[i]).groups()\n",
    "    if a == \"set\":\n",
    "        registers[X] = get(Y)\n",
    "    elif a == \"sub\":\n",
    "        registers[X] = registers[X] - get(Y)\n",
    "    elif a == \"mul\":\n",
    "        registers[X] = registers[X] * get(Y)\n",
    "        count += 1\n",
    "    elif a == \"jnz\" and get(X) != 0:\n",
    "        i += get(Y) - 1\n",
    "    \n",
    "    i += 1\n",
    "\n",
    "count"
   ]
  },
  {
   "cell_type": "markdown",
   "metadata": {},
   "source": [
    "__Part 2__ "
   ]
  },
  {
   "cell_type": "code",
   "execution_count": null,
   "metadata": {},
   "outputs": [],
   "source": [
    "# https://github.com/dp1/AoC17/blob/master/day23.5.txt\n",
    "\n",
    "b = 93\n",
    "b = b * 100 + 100000\n",
    "c = b + 17000\n",
    "h = 0\n",
    "for b in range(b, c + 1, 17):\n",
    "    if not is_prime(b):\n",
    "        h += 1 \n",
    "        \n",
    "h"
   ]
  },
  {
   "cell_type": "markdown",
   "metadata": {},
   "source": [
    "## Day 24\n",
    "http://adventofcode.com/2017/day/24"
   ]
  },
  {
   "cell_type": "code",
   "execution_count": null,
   "metadata": {},
   "outputs": [],
   "source": [
    "content = load_day(24)\n",
    "content = mapl(lambda x: mapl(int, x.strip().split(\"/\")), content)"
   ]
  },
  {
   "cell_type": "code",
   "execution_count": null,
   "metadata": {},
   "outputs": [],
   "source": [
    "def bridge_generator(rodes):\n",
    "    \n",
    "    def gen(bridge, rodes):\n",
    "        for r in rodes:\n",
    "            if bridge[1] in r:\n",
    "                _rodes = rodes.copy()\n",
    "                _rodes.remove(r)\n",
    "                yield from gen((bridge[0] + [r], r[0] if bridge[1] == r[1] else r[1]) ,_rodes)\n",
    "\n",
    "        yield bridge\n",
    "        \n",
    "    return gen(([], 0), rodes)"
   ]
  },
  {
   "cell_type": "code",
   "execution_count": null,
   "metadata": {},
   "outputs": [],
   "source": [
    "bridges = list(bridge_generator(content))"
   ]
  },
  {
   "cell_type": "markdown",
   "metadata": {},
   "source": [
    "__Part 1__ "
   ]
  },
  {
   "cell_type": "code",
   "execution_count": null,
   "metadata": {},
   "outputs": [],
   "source": [
    "max(map(lambda b: sum(map(sum, b[0])), bridges))"
   ]
  },
  {
   "cell_type": "markdown",
   "metadata": {},
   "source": [
    "__Part 2__ "
   ]
  },
  {
   "cell_type": "code",
   "execution_count": null,
   "metadata": {},
   "outputs": [],
   "source": [
    "sum(map(sum, sorted(bridges, key=lambda b: (len(b[0]), sum(map(sum, b[0]))))[-1][0]))"
   ]
  },
  {
   "cell_type": "markdown",
   "metadata": {},
   "source": [
    "## Day 25\n",
    "http://adventofcode.com/2017/day/25"
   ]
  },
  {
   "cell_type": "code",
   "execution_count": null,
   "metadata": {},
   "outputs": [],
   "source": [
    "content = load_day(25)\n",
    "\n",
    "program = {\n",
    "    \"A\": ((1, 1, \"B\"), (0, -1, \"B\")),\n",
    "    \"B\": ((1,-1, \"C\"), (0,  1, \"E\")),\n",
    "    \"C\": ((1, 1, \"E\"), (0, -1, \"D\")),\n",
    "    \"D\": ((1,-1, \"A\"), (1, -1, \"A\")),\n",
    "    \"E\": ((0, 1, \"A\"), (0,  1, \"F\")),\n",
    "    \"F\": ((1, 1, \"E\"), (1,  1, \"B\")),\n",
    "}\n",
    "start = \"A\"\n",
    "steps = 12683008"
   ]
  },
  {
   "cell_type": "markdown",
   "metadata": {},
   "source": [
    "__Part 1__ "
   ]
  },
  {
   "cell_type": "code",
   "execution_count": null,
   "metadata": {},
   "outputs": [],
   "source": [
    "tape = collections.defaultdict(int)\n",
    "state = \"A\"\n",
    "pos = 0\n",
    "for i in range(steps):\n",
    "    val = tape[pos]\n",
    "    tape[pos], move, state = program[state][val]\n",
    "    pos += move"
   ]
  },
  {
   "cell_type": "code",
   "execution_count": null,
   "metadata": {},
   "outputs": [],
   "source": [
    "sum(tape.values())"
   ]
  }
 ],
 "metadata": {
  "kernelspec": {
   "display_name": "Python 3",
   "language": "python",
   "name": "python3"
  },
  "language_info": {
   "codemirror_mode": {
    "name": "ipython",
    "version": 3
   },
   "file_extension": ".py",
   "mimetype": "text/x-python",
   "name": "python",
   "nbconvert_exporter": "python",
   "pygments_lexer": "ipython3",
   "version": "3.6.4"
  }
 },
 "nbformat": 4,
 "nbformat_minor": 2
}
