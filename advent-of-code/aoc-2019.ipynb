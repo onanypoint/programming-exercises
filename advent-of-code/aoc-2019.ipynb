{
 "cells": [
  {
   "cell_type": "code",
   "execution_count": null,
   "metadata": {},
   "outputs": [],
   "source": [
    "import itertools\n",
    "import functools\n",
    "import collections\n",
    "import operator\n",
    "import sys\n",
    "import re\n",
    "import numpy as np\n",
    "import math"
   ]
  },
  {
   "cell_type": "code",
   "execution_count": null,
   "metadata": {},
   "outputs": [],
   "source": [
    "from helpers.functions import *"
   ]
  },
  {
   "cell_type": "markdown",
   "metadata": {},
   "source": [
    "Configuration"
   ]
  },
  {
   "cell_type": "code",
   "execution_count": null,
   "metadata": {},
   "outputs": [],
   "source": [
    "DIR = \"data/2019/\"\n",
    "load_day = functools.partial(load, DIR)"
   ]
  },
  {
   "cell_type": "markdown",
   "metadata": {},
   "source": [
    "# Problems"
   ]
  },
  {
   "cell_type": "markdown",
   "metadata": {},
   "source": [
    "## Day 1\n",
    "\n",
    "http://adventofcode.com/2019/day/1"
   ]
  },
  {
   "cell_type": "code",
   "execution_count": null,
   "metadata": {},
   "outputs": [],
   "source": [
    "content = mapl(int, load_day(1))"
   ]
  },
  {
   "cell_type": "markdown",
   "metadata": {},
   "source": [
    "__Part 1__"
   ]
  },
  {
   "cell_type": "code",
   "execution_count": null,
   "metadata": {},
   "outputs": [],
   "source": [
    "def get_fuel(mass):\n",
    "    return max(0, math.floor(mass/3) - 2)"
   ]
  },
  {
   "cell_type": "code",
   "execution_count": null,
   "metadata": {},
   "outputs": [],
   "source": [
    "sum(map(get_fuel, content))"
   ]
  },
  {
   "cell_type": "markdown",
   "metadata": {},
   "source": [
    "__Part 2__"
   ]
  },
  {
   "cell_type": "code",
   "execution_count": null,
   "metadata": {},
   "outputs": [],
   "source": [
    "def get_over_all_fuel(mass):\n",
    "    if mass <= 0:\n",
    "        return 0\n",
    "    \n",
    "    fuel = get_fuel(mass)\n",
    "    return fuel + get_over_all_fuel(fuel)"
   ]
  },
  {
   "cell_type": "code",
   "execution_count": null,
   "metadata": {},
   "outputs": [],
   "source": [
    "sum(map(get_over_all_fuel, content))"
   ]
  },
  {
   "cell_type": "markdown",
   "metadata": {},
   "source": [
    "## Day 2\n",
    "\n",
    "http://adventofcode.com/2019/day/2"
   ]
  },
  {
   "cell_type": "code",
   "execution_count": null,
   "metadata": {},
   "outputs": [],
   "source": [
    "content = mapl(int, load_day(2)[0].split(\",\"))"
   ]
  },
  {
   "cell_type": "markdown",
   "metadata": {},
   "source": [
    "__Part 1__"
   ]
  },
  {
   "cell_type": "code",
   "execution_count": null,
   "metadata": {},
   "outputs": [],
   "source": [
    "def process(program):\n",
    "    i = 0\n",
    "\n",
    "    while True:\n",
    "        if program[i] == 99:\n",
    "            break\n",
    "\n",
    "        opcode, idx1, idx2, idx3 = program[i:i+4]\n",
    "\n",
    "        if opcode == 1:\n",
    "            program[idx3] = program[idx1] + program[idx2]\n",
    "        elif opcode == 2:\n",
    "            program[idx3] = program[idx1] * program[idx2]\n",
    "        else:\n",
    "            raise ValueError(\"Unkown opcode\")\n",
    "\n",
    "        i += 4\n",
    "        \n",
    "    return program[0]"
   ]
  },
  {
   "cell_type": "code",
   "execution_count": null,
   "metadata": {},
   "outputs": [],
   "source": [
    "program = content.copy()\n",
    "program[1] = 12\n",
    "program[2] = 2\n",
    "process(program)"
   ]
  },
  {
   "cell_type": "markdown",
   "metadata": {},
   "source": [
    "__Part 2__"
   ]
  },
  {
   "cell_type": "code",
   "execution_count": null,
   "metadata": {},
   "outputs": [],
   "source": [
    "for i in range(100):\n",
    "    for j in range(100):\n",
    "        program = content.copy()\n",
    "        program[1] = i\n",
    "        program[2] = j\n",
    "        if process(program) == 19690720:\n",
    "            print(100*i+j)\n",
    "            raise"
   ]
  },
  {
   "cell_type": "markdown",
   "metadata": {},
   "source": [
    "## Day 3\n",
    "\n",
    "http://adventofcode.com/2019/day/3"
   ]
  },
  {
   "cell_type": "code",
   "execution_count": null,
   "metadata": {},
   "outputs": [],
   "source": [
    "content = load_day(3)"
   ]
  },
  {
   "cell_type": "code",
   "execution_count": null,
   "metadata": {},
   "outputs": [],
   "source": [
    "path1 = content[0].split(\",\")\n",
    "path2 = content[1].split(\",\")"
   ]
  },
  {
   "cell_type": "code",
   "execution_count": null,
   "metadata": {},
   "outputs": [],
   "source": [
    "directions = {\n",
    "    \"R\": (1,0), \n",
    "    \"L\": (-1,0),\n",
    "    \"U\": (0,1),\n",
    "    \"D\": (0,-1),\n",
    "}\n",
    "\n",
    "def get_positions(path):\n",
    "    positions = list()\n",
    "    current_position = (0,0)\n",
    "    for step in path:\n",
    "        direction, number = step[0], int(step[1:])\n",
    "        for i in range(number):\n",
    "            current_position = tuple(add(current_position, directions[direction]))\n",
    "            positions.append(current_position)\n",
    "            \n",
    "    return positions"
   ]
  },
  {
   "cell_type": "code",
   "execution_count": null,
   "metadata": {},
   "outputs": [],
   "source": [
    "positions_path1 = get_positions(path1)\n",
    "positions_path2 = get_positions(path2)"
   ]
  },
  {
   "cell_type": "code",
   "execution_count": null,
   "metadata": {},
   "outputs": [],
   "source": [
    "commun = set(positions_path1).intersection(set(positions_path2))"
   ]
  },
  {
   "cell_type": "markdown",
   "metadata": {},
   "source": [
    "__Part 1__"
   ]
  },
  {
   "cell_type": "code",
   "execution_count": null,
   "metadata": {},
   "outputs": [],
   "source": [
    "min([abs(x)+abs(y) for x, y in commun])"
   ]
  },
  {
   "cell_type": "markdown",
   "metadata": {},
   "source": [
    "__Part 2__"
   ]
  },
  {
   "cell_type": "code",
   "execution_count": null,
   "metadata": {},
   "outputs": [],
   "source": [
    "steps = []\n",
    "for c in commun:\n",
    "    idx1 = positions_path1.index(c) + 1\n",
    "    idx2 = positions_path2.index(c) + 1\n",
    "    steps.append(idx1 + idx2)"
   ]
  },
  {
   "cell_type": "code",
   "execution_count": null,
   "metadata": {},
   "outputs": [],
   "source": [
    "min(steps)"
   ]
  },
  {
   "cell_type": "markdown",
   "metadata": {},
   "source": [
    "## Day 4\n",
    "\n",
    "http://adventofcode.com/2019/day/4"
   ]
  },
  {
   "cell_type": "code",
   "execution_count": null,
   "metadata": {},
   "outputs": [],
   "source": [
    "low = 356261\n",
    "high = 846303"
   ]
  },
  {
   "cell_type": "code",
   "execution_count": null,
   "metadata": {},
   "outputs": [],
   "source": [
    "def never_decrease(numbers):\n",
    "    return all(x <= y for x,y in zip(numbers, numbers[1:]))\n",
    "\n",
    "def contains_a_pair(numbers):\n",
    "    return any(x == y for x,y in zip(numbers, numbers[1:]))"
   ]
  },
  {
   "cell_type": "code",
   "execution_count": null,
   "metadata": {},
   "outputs": [],
   "source": [
    "pwds = []\n",
    "for pwd in range(low, high+1):\n",
    "    numbers = mapl(int, str(pwd))\n",
    "    if never_decrease(numbers) and contains_a_pair(numbers):\n",
    "        pwds.append(numbers)"
   ]
  },
  {
   "cell_type": "markdown",
   "metadata": {},
   "source": [
    "__Part 1__"
   ]
  },
  {
   "cell_type": "code",
   "execution_count": null,
   "metadata": {},
   "outputs": [],
   "source": [
    "len(pwds)"
   ]
  },
  {
   "cell_type": "markdown",
   "metadata": {},
   "source": [
    "__Part 2__"
   ]
  },
  {
   "cell_type": "code",
   "execution_count": null,
   "metadata": {},
   "outputs": [],
   "source": [
    "sum(1 for pwd in pwds if 2 in collections.Counter(pwd).values())"
   ]
  },
  {
   "cell_type": "markdown",
   "metadata": {},
   "source": [
    "## Day 5\n",
    "\n",
    "http://adventofcode.com/2019/day/5"
   ]
  },
  {
   "cell_type": "code",
   "execution_count": null,
   "metadata": {},
   "outputs": [],
   "source": [
    "instructions = mapl(int, load_day(5)[0].split(\",\"))"
   ]
  },
  {
   "cell_type": "code",
   "execution_count": null,
   "metadata": {},
   "outputs": [],
   "source": [
    "def run(instructions, system_id):\n",
    "    output = None\n",
    "\n",
    "    def params(ptr, mode):\n",
    "        return instructions[instructions[ptr]] if mode == 0 else instructions[ptr]\n",
    "\n",
    "    ptr = 0\n",
    "    while True:\n",
    "        opcode = instructions[ptr] % 100\n",
    "        param1_mode = (instructions[ptr] % 1000) // 100\n",
    "        param2_mode = (instructions[ptr] % 10000) // 1000\n",
    "\n",
    "        if opcode == 1:\n",
    "            a = params(ptr+1, param1_mode)\n",
    "            b = params(ptr+2, param2_mode)\n",
    "            c = instructions[ptr+3]\n",
    "            instructions[c] = a + b\n",
    "            ptr += 4\n",
    "\n",
    "        elif opcode == 2:\n",
    "            a = params(ptr+1, param1_mode)\n",
    "            b = params(ptr+2, param2_mode)\n",
    "            c = instructions[ptr+3]\n",
    "            instructions[c] = a * b\n",
    "            ptr += 4\n",
    "\n",
    "        elif opcode == 3:\n",
    "            instructions[instructions[ptr+1]] = system_id\n",
    "            ptr += 2\n",
    "\n",
    "        elif opcode == 4:\n",
    "            output = params(ptr+1, param1_mode)\n",
    "            ptr += 2\n",
    "\n",
    "        elif opcode == 5:\n",
    "            a = params(ptr+1, param1_mode)\n",
    "            b = params(ptr+2, param2_mode)\n",
    "            ptr = b if a != 0 else ptr+3\n",
    "\n",
    "        elif opcode == 6:\n",
    "            a = params(ptr+1, param1_mode)\n",
    "            b = params(ptr+2, param2_mode)\n",
    "            ptr = b if a == 0 else ptr+3\n",
    "\n",
    "        elif opcode == 7:\n",
    "            a = params(ptr+1, param1_mode)\n",
    "            b = params(ptr+2, param2_mode)\n",
    "            c = instructions[ptr+3]\n",
    "            instructions[c] = int(a < b)\n",
    "            ptr += 4\n",
    "\n",
    "        elif opcode == 8:\n",
    "            a = params(ptr+1, param1_mode)\n",
    "            b = params(ptr+2, param2_mode)\n",
    "            c = instructions[ptr+3]\n",
    "            instructions[c] = int(a == b)\n",
    "            ptr += 4\n",
    "\n",
    "        elif opcode == 99:\n",
    "            break\n",
    "\n",
    "        else:\n",
    "            print(opcode)\n",
    "            raise\n",
    "            \n",
    "    return output"
   ]
  },
  {
   "cell_type": "markdown",
   "metadata": {},
   "source": [
    "__Part 1__"
   ]
  },
  {
   "cell_type": "code",
   "execution_count": null,
   "metadata": {},
   "outputs": [],
   "source": [
    "run(instructions.copy(), 1)"
   ]
  },
  {
   "cell_type": "markdown",
   "metadata": {},
   "source": [
    "__Part 2__"
   ]
  },
  {
   "cell_type": "code",
   "execution_count": null,
   "metadata": {},
   "outputs": [],
   "source": [
    "run(instructions.copy(), 5)"
   ]
  },
  {
   "cell_type": "markdown",
   "metadata": {},
   "source": [
    "## Day 6\n",
    "\n",
    "http://adventofcode.com/2019/day/6"
   ]
  },
  {
   "cell_type": "code",
   "execution_count": null,
   "metadata": {},
   "outputs": [],
   "source": [
    "content = mapl(lambda x: x.split(\")\"), load_day(6))"
   ]
  },
  {
   "cell_type": "code",
   "execution_count": null,
   "metadata": {},
   "outputs": [],
   "source": [
    "parents = dict()\n",
    "childrens = collections.defaultdict(set)\n",
    "\n",
    "for u,v in content:\n",
    "    parents[v] = u\n",
    "    childrens[u].add(v)"
   ]
  },
  {
   "cell_type": "markdown",
   "metadata": {},
   "source": [
    "__Part 1__"
   ]
  },
  {
   "cell_type": "code",
   "execution_count": null,
   "metadata": {},
   "outputs": [],
   "source": [
    "total = 0\n",
    "for obj in parents.keys():\n",
    "    while obj != \"COM\":\n",
    "        total += 1\n",
    "        obj = parents[obj]\n",
    "        \n",
    "total"
   ]
  },
  {
   "cell_type": "markdown",
   "metadata": {},
   "source": [
    "__Part 2__"
   ]
  },
  {
   "cell_type": "code",
   "execution_count": null,
   "metadata": {},
   "outputs": [],
   "source": [
    "start = \"YOU\"\n",
    "end = \"SAN\"\n",
    "\n",
    "explored = set()\n",
    "\n",
    "def explore(source, root, transfers):\n",
    "    explored.add(root)\n",
    "    \n",
    "    if root == \"SAN\":\n",
    "        return transfers\n",
    "    \n",
    "    nodes = childrens[root]\n",
    "    if root in parents: \n",
    "        nodes.add(parents[root])\n",
    "    \n",
    "    for node in nodes:\n",
    "        if node not in explored:\n",
    "            out = explore(root, node, transfers+1)\n",
    "            if out is not None:\n",
    "                return out"
   ]
  },
  {
   "cell_type": "code",
   "execution_count": null,
   "metadata": {},
   "outputs": [],
   "source": [
    "explore(start, parents[start], 0) - 1 "
   ]
  },
  {
   "cell_type": "markdown",
   "metadata": {},
   "source": [
    "## Day 7\n",
    "\n",
    "http://adventofcode.com/2019/day/7"
   ]
  },
  {
   "cell_type": "code",
   "execution_count": null,
   "metadata": {},
   "outputs": [],
   "source": [
    "content = load_day(7)"
   ]
  },
  {
   "cell_type": "markdown",
   "metadata": {},
   "source": [
    "__Part 1__"
   ]
  },
  {
   "cell_type": "markdown",
   "metadata": {},
   "source": [
    "__Part 2__"
   ]
  },
  {
   "cell_type": "markdown",
   "metadata": {},
   "source": [
    "## Day 8\n",
    "\n",
    "http://adventofcode.com/2019/day/8"
   ]
  },
  {
   "cell_type": "code",
   "execution_count": null,
   "metadata": {},
   "outputs": [],
   "source": [
    "content = load_day(8)"
   ]
  },
  {
   "cell_type": "markdown",
   "metadata": {},
   "source": [
    "__Part 1__"
   ]
  },
  {
   "cell_type": "markdown",
   "metadata": {},
   "source": [
    "__Part 2__"
   ]
  }
 ],
 "metadata": {
  "language_info": {
   "name": "python",
   "pygments_lexer": "ipython3"
  }
 },
 "nbformat": 4,
 "nbformat_minor": 2
}
