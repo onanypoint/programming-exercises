{
 "cells": [
  {
   "cell_type": "code",
   "execution_count": null,
   "metadata": {},
   "outputs": [],
   "source": [
    "import itertools\n",
    "import functools\n",
    "import random\n",
    "import collections\n",
    "import operator\n",
    "import sys\n",
    "import re\n",
    "import copy\n",
    "import numpy as np\n",
    "import math\n",
    "import networkx as nx"
   ]
  },
  {
   "cell_type": "code",
   "execution_count": null,
   "metadata": {},
   "outputs": [],
   "source": [
    "from helpers.functions import *"
   ]
  },
  {
   "cell_type": "markdown",
   "metadata": {},
   "source": [
    "Configuration"
   ]
  },
  {
   "cell_type": "code",
   "execution_count": null,
   "metadata": {},
   "outputs": [],
   "source": [
    "DIR = \"data/2019/\"\n",
    "load_day = functools.partial(load, DIR)"
   ]
  },
  {
   "cell_type": "markdown",
   "metadata": {},
   "source": [
    "# Intcode"
   ]
  },
  {
   "cell_type": "code",
   "execution_count": null,
   "metadata": {},
   "outputs": [],
   "source": [
    "class IntCode():\n",
    "    \n",
    "    def __init__(self, instructions, inputs=None, relative_base=0):\n",
    "        \n",
    "        self.memory = collections.defaultdict(int)\n",
    "        self.memory.update(dict(enumerate(instructions)))\n",
    "        self.inputs = inputs or []\n",
    "        self.relative_base = relative_base\n",
    "        self.ptr = 0\n",
    "        \n",
    "    def value(self, ptr, mode):\n",
    "        if mode == 0:\n",
    "            return self.memory[ptr]\n",
    "        elif mode == 1:\n",
    "            return ptr\n",
    "        elif mode == 2:\n",
    "            return self.relative_base + self.memory[ptr]\n",
    "        else:\n",
    "            raise ValueError(\"Unkown mode {}\".format(mode))\n",
    "    \n",
    "    def get_instruction(self, ptr):\n",
    "        opcode = self.memory[ptr] % 100 \n",
    "        param1_mode = (self.memory[ptr] % 1000) // 100\n",
    "        param2_mode = (self.memory[ptr] % 10000) // 1000\n",
    "        param3_mode = (self.memory[ptr] % 100000) // 10000\n",
    "        return opcode, param1_mode, param2_mode, param3_mode   \n",
    "        \n",
    "        \n",
    "    def get_last_output(self):\n",
    "        final_output = None\n",
    "        for output in self.run():\n",
    "            final_output = output\n",
    "            \n",
    "        return final_output\n",
    "            \n",
    "    def run(self):\n",
    "        \n",
    "        while self.memory[self.ptr] != 99:\n",
    "            opcode, pm1, pm2, pm3 = self.get_instruction(self.ptr)\n",
    "    \n",
    "            a = self.value(self.ptr + 1, pm1)\n",
    "            b = self.value(self.ptr + 2, pm2)\n",
    "            c = self.value(self.ptr + 3, pm3)\n",
    "        \n",
    "            if opcode == 1:\n",
    "                self.memory[c] = self.memory[a] + self.memory[b]\n",
    "                self.ptr += 4\n",
    "\n",
    "            elif opcode == 2:\n",
    "                self.memory[c] = self.memory[a] * self.memory[b]\n",
    "                self.ptr += 4\n",
    "                \n",
    "            elif opcode == 3:\n",
    "                if not self.inputs:\n",
    "                    break\n",
    "                \n",
    "                self.memory[a] = self.inputs.pop(0)\n",
    "                self.ptr += 2\n",
    "                \n",
    "            elif opcode == 4:\n",
    "                self.ptr += 2\n",
    "                yield self.memory[a]\n",
    "                \n",
    "            elif opcode == 5:\n",
    "                self.ptr = self.memory[b] if self.memory[a] != 0 else self.ptr+3\n",
    "\n",
    "            elif opcode == 6:\n",
    "                self.ptr = self.memory[b] if self.memory[a] == 0 else self.ptr+3\n",
    "\n",
    "            elif opcode == 7:\n",
    "                self.memory[c] = 1 if self.memory[a] < self.memory[b] else 0\n",
    "                self.ptr += 4\n",
    "\n",
    "            elif opcode == 8:\n",
    "                self.memory[c] = 1 if self.memory[a] == self.memory[b] else 0\n",
    "                self.ptr += 4\n",
    "                \n",
    "            elif opcode == 9:\n",
    "                self.relative_base += self.memory[a]\n",
    "                self.ptr += 2\n",
    "            \n",
    "            elif opcode == 99:\n",
    "                break\n",
    "                \n",
    "            else:\n",
    "                raise ValueError(\"Unkown opcode {}\".format(opcode))"
   ]
  },
  {
   "cell_type": "markdown",
   "metadata": {},
   "source": [
    "# Problems"
   ]
  },
  {
   "cell_type": "markdown",
   "metadata": {},
   "source": [
    "## Day 1\n",
    "\n",
    "http://adventofcode.com/2019/day/1"
   ]
  },
  {
   "cell_type": "code",
   "execution_count": null,
   "metadata": {},
   "outputs": [],
   "source": [
    "content = mapl(int, load_day(1))"
   ]
  },
  {
   "cell_type": "markdown",
   "metadata": {},
   "source": [
    "__Part 1__"
   ]
  },
  {
   "cell_type": "code",
   "execution_count": null,
   "metadata": {},
   "outputs": [],
   "source": [
    "def get_fuel(mass):\n",
    "    return max(0, math.floor(mass/3) - 2)"
   ]
  },
  {
   "cell_type": "code",
   "execution_count": null,
   "metadata": {},
   "outputs": [],
   "source": [
    "sum(map(get_fuel, content))"
   ]
  },
  {
   "cell_type": "markdown",
   "metadata": {},
   "source": [
    "__Part 2__"
   ]
  },
  {
   "cell_type": "code",
   "execution_count": null,
   "metadata": {},
   "outputs": [],
   "source": [
    "def get_over_all_fuel(mass):\n",
    "    if mass <= 0:\n",
    "        return 0\n",
    "    \n",
    "    fuel = get_fuel(mass)\n",
    "    return fuel + get_over_all_fuel(fuel)"
   ]
  },
  {
   "cell_type": "code",
   "execution_count": null,
   "metadata": {},
   "outputs": [],
   "source": [
    "sum(map(get_over_all_fuel, content))"
   ]
  },
  {
   "cell_type": "markdown",
   "metadata": {},
   "source": [
    "## Day 2\n",
    "\n",
    "http://adventofcode.com/2019/day/2"
   ]
  },
  {
   "cell_type": "code",
   "execution_count": null,
   "metadata": {},
   "outputs": [],
   "source": [
    "instructions = mapl(int, load_day(2)[0].split(\",\"))"
   ]
  },
  {
   "cell_type": "markdown",
   "metadata": {},
   "source": [
    "__Part 1__"
   ]
  },
  {
   "cell_type": "code",
   "execution_count": null,
   "metadata": {},
   "outputs": [],
   "source": [
    "prog = IntCode(instructions, [1])\n",
    "prog.memory[1] = 12\n",
    "prog.memory[2] = 2\n",
    "prog.get_last_output()\n",
    "\n",
    "print(prog.memory[0])"
   ]
  },
  {
   "cell_type": "markdown",
   "metadata": {},
   "source": [
    "__Part 2__"
   ]
  },
  {
   "cell_type": "code",
   "execution_count": null,
   "metadata": {},
   "outputs": [],
   "source": [
    "for i in range(100):\n",
    "    for j in range(100):\n",
    "        prog = IntCode(instructions, [1])\n",
    "        prog.memory[1] = i\n",
    "        prog.memory[2] = j\n",
    "        prog.get_last_output()\n",
    "        if prog.memory[0] == 19690720:\n",
    "            print(100*i+j)"
   ]
  },
  {
   "cell_type": "markdown",
   "metadata": {},
   "source": [
    "## Day 3\n",
    "\n",
    "http://adventofcode.com/2019/day/3"
   ]
  },
  {
   "cell_type": "code",
   "execution_count": null,
   "metadata": {},
   "outputs": [],
   "source": [
    "content = load_day(3)"
   ]
  },
  {
   "cell_type": "code",
   "execution_count": null,
   "metadata": {},
   "outputs": [],
   "source": [
    "path1 = content[0].split(\",\")\n",
    "path2 = content[1].split(\",\")"
   ]
  },
  {
   "cell_type": "code",
   "execution_count": null,
   "metadata": {},
   "outputs": [],
   "source": [
    "directions = {\n",
    "    \"R\": (1,0), \n",
    "    \"L\": (-1,0),\n",
    "    \"U\": (0,1),\n",
    "    \"D\": (0,-1),\n",
    "}\n",
    "\n",
    "def get_positions(path):\n",
    "    positions = list()\n",
    "    current_position = (0,0)\n",
    "    for step in path:\n",
    "        direction, number = step[0], int(step[1:])\n",
    "        for i in range(number):\n",
    "            current_position = tuple(add(current_position, directions[direction]))\n",
    "            positions.append(current_position)\n",
    "            \n",
    "    return positions"
   ]
  },
  {
   "cell_type": "code",
   "execution_count": null,
   "metadata": {},
   "outputs": [],
   "source": [
    "positions_path1 = get_positions(path1)\n",
    "positions_path2 = get_positions(path2)"
   ]
  },
  {
   "cell_type": "code",
   "execution_count": null,
   "metadata": {},
   "outputs": [],
   "source": [
    "commun = set(positions_path1).intersection(set(positions_path2))"
   ]
  },
  {
   "cell_type": "markdown",
   "metadata": {},
   "source": [
    "__Part 1__"
   ]
  },
  {
   "cell_type": "code",
   "execution_count": null,
   "metadata": {},
   "outputs": [],
   "source": [
    "min([abs(x)+abs(y) for x, y in commun])"
   ]
  },
  {
   "cell_type": "markdown",
   "metadata": {},
   "source": [
    "__Part 2__"
   ]
  },
  {
   "cell_type": "code",
   "execution_count": null,
   "metadata": {},
   "outputs": [],
   "source": [
    "steps = []\n",
    "for c in commun:\n",
    "    idx1 = positions_path1.index(c) + 1\n",
    "    idx2 = positions_path2.index(c) + 1\n",
    "    steps.append(idx1 + idx2)"
   ]
  },
  {
   "cell_type": "code",
   "execution_count": null,
   "metadata": {},
   "outputs": [],
   "source": [
    "min(steps)"
   ]
  },
  {
   "cell_type": "markdown",
   "metadata": {},
   "source": [
    "## Day 4\n",
    "\n",
    "http://adventofcode.com/2019/day/4"
   ]
  },
  {
   "cell_type": "code",
   "execution_count": null,
   "metadata": {},
   "outputs": [],
   "source": [
    "low = 356261\n",
    "high = 846303"
   ]
  },
  {
   "cell_type": "code",
   "execution_count": null,
   "metadata": {},
   "outputs": [],
   "source": [
    "def never_decrease(numbers):\n",
    "    return all(x <= y for x,y in zip(numbers, numbers[1:]))\n",
    "\n",
    "def contains_a_pair(numbers):\n",
    "    return any(x == y for x,y in zip(numbers, numbers[1:]))"
   ]
  },
  {
   "cell_type": "code",
   "execution_count": null,
   "metadata": {},
   "outputs": [],
   "source": [
    "pwds = []\n",
    "for pwd in range(low, high+1):\n",
    "    numbers = mapl(int, str(pwd))\n",
    "    if never_decrease(numbers) and contains_a_pair(numbers):\n",
    "        pwds.append(numbers)"
   ]
  },
  {
   "cell_type": "markdown",
   "metadata": {},
   "source": [
    "__Part 1__"
   ]
  },
  {
   "cell_type": "code",
   "execution_count": null,
   "metadata": {},
   "outputs": [],
   "source": [
    "len(pwds)"
   ]
  },
  {
   "cell_type": "markdown",
   "metadata": {},
   "source": [
    "__Part 2__"
   ]
  },
  {
   "cell_type": "code",
   "execution_count": null,
   "metadata": {},
   "outputs": [],
   "source": [
    "sum(1 for pwd in pwds if 2 in collections.Counter(pwd).values())"
   ]
  },
  {
   "cell_type": "markdown",
   "metadata": {},
   "source": [
    "## Day 5\n",
    "\n",
    "http://adventofcode.com/2019/day/5"
   ]
  },
  {
   "cell_type": "code",
   "execution_count": null,
   "metadata": {},
   "outputs": [],
   "source": [
    "instructions = mapl(int, load_day(5)[0].split(\",\"))"
   ]
  },
  {
   "cell_type": "markdown",
   "metadata": {},
   "source": [
    "__Part 1__"
   ]
  },
  {
   "cell_type": "code",
   "execution_count": null,
   "metadata": {},
   "outputs": [],
   "source": [
    "prog = IntCode(instructions, [1])\n",
    "prog.get_last_output()"
   ]
  },
  {
   "cell_type": "markdown",
   "metadata": {},
   "source": [
    "__Part 2__"
   ]
  },
  {
   "cell_type": "code",
   "execution_count": null,
   "metadata": {},
   "outputs": [],
   "source": [
    "prog = IntCode(instructions, [5])\n",
    "prog.get_last_output()"
   ]
  },
  {
   "cell_type": "markdown",
   "metadata": {},
   "source": [
    "## Day 6\n",
    "\n",
    "http://adventofcode.com/2019/day/6"
   ]
  },
  {
   "cell_type": "code",
   "execution_count": null,
   "metadata": {},
   "outputs": [],
   "source": [
    "content = mapl(lambda x: x.split(\")\"), load_day(6))"
   ]
  },
  {
   "cell_type": "code",
   "execution_count": null,
   "metadata": {},
   "outputs": [],
   "source": [
    "parents = dict()\n",
    "childrens = collections.defaultdict(set)\n",
    "\n",
    "for u,v in content:\n",
    "    parents[v] = u\n",
    "    childrens[u].add(v)"
   ]
  },
  {
   "cell_type": "markdown",
   "metadata": {},
   "source": [
    "__Part 1__"
   ]
  },
  {
   "cell_type": "code",
   "execution_count": null,
   "metadata": {},
   "outputs": [],
   "source": [
    "total = 0\n",
    "\n",
    "for obj in parents.keys():\n",
    "    while obj != \"COM\":\n",
    "        total += 1\n",
    "        obj = parents[obj]\n",
    "        \n",
    "total"
   ]
  },
  {
   "cell_type": "markdown",
   "metadata": {},
   "source": [
    "__Part 2__"
   ]
  },
  {
   "cell_type": "code",
   "execution_count": null,
   "metadata": {},
   "outputs": [],
   "source": [
    "start = \"YOU\"\n",
    "end = \"SAN\"\n",
    "\n",
    "explored = set()\n",
    "\n",
    "def explore(source, root, transfers):\n",
    "    explored.add(root)\n",
    "    \n",
    "    if root == \"SAN\":\n",
    "        return transfers\n",
    "    \n",
    "    nodes = childrens[root]\n",
    "    if root in parents: \n",
    "        nodes.add(parents[root])\n",
    "    \n",
    "    for node in nodes:\n",
    "        if node not in explored:\n",
    "            out = explore(root, node, transfers+1)\n",
    "            if out is not None:\n",
    "                return out"
   ]
  },
  {
   "cell_type": "code",
   "execution_count": null,
   "metadata": {},
   "outputs": [],
   "source": [
    "explore(start, parents[start], 0) - 1"
   ]
  },
  {
   "cell_type": "markdown",
   "metadata": {},
   "source": [
    "## Day 7\n",
    "\n",
    "http://adventofcode.com/2019/day/7"
   ]
  },
  {
   "cell_type": "code",
   "execution_count": null,
   "metadata": {},
   "outputs": [],
   "source": [
    "instructions = mapl(int, load_day(7)[0].split(\",\"))"
   ]
  },
  {
   "cell_type": "markdown",
   "metadata": {},
   "source": [
    "__Part 1__"
   ]
  },
  {
   "cell_type": "code",
   "execution_count": null,
   "metadata": {},
   "outputs": [],
   "source": [
    "max_amp = 0\n",
    "for phases in itertools.permutations(range(5)):\n",
    "    amp = 0\n",
    "    for p in phases:\n",
    "        amp = IntCode(instructions, [p, amp]).get_last_output()\n",
    "\n",
    "    max_amp = max(max_amp, amp)"
   ]
  },
  {
   "cell_type": "code",
   "execution_count": null,
   "metadata": {},
   "outputs": [],
   "source": [
    "max_amp"
   ]
  },
  {
   "cell_type": "markdown",
   "metadata": {},
   "source": [
    "__Part 2__"
   ]
  },
  {
   "cell_type": "markdown",
   "metadata": {},
   "source": [
    "    #TODO\n",
    "    max_amp = 0\n",
    "    for phases in itertools.permutations(range(5,10)):\n",
    "        amp_instructions = [instructions.copy() for _ in range(5)]\n",
    "        amp_inputs = [[p] for p in phases]\n",
    "        amp_ptr = [0, 0, 0, 0, 0]\n",
    "\n",
    "        amp = 0\n",
    "\n",
    "        while amp is not None:\n",
    "            for i in range(5):\n",
    "                amp_inputs[i].append(amp)\n",
    "                amp, amp_ptr[i] = Int(amp_instructions[i], amp_inputs[i], ptr=amp_ptr[i])\n",
    "\n",
    "            last_amp = last_amp if amp is None else amp\n",
    "\n",
    "        max_amp = max(max_amp, last_amp)\n",
    "\n",
    "    max_amp"
   ]
  },
  {
   "cell_type": "markdown",
   "metadata": {},
   "source": [
    "## Day 8\n",
    "\n",
    "http://adventofcode.com/2019/day/8"
   ]
  },
  {
   "cell_type": "code",
   "execution_count": null,
   "metadata": {},
   "outputs": [],
   "source": [
    "content = load_day(8)[0]"
   ]
  },
  {
   "cell_type": "code",
   "execution_count": null,
   "metadata": {},
   "outputs": [],
   "source": [
    "width = 25\n",
    "height = 6\n",
    "layers_count = (len(content) // width) // height"
   ]
  },
  {
   "cell_type": "code",
   "execution_count": null,
   "metadata": {},
   "outputs": [],
   "source": [
    "pixels = mapl(int, content)\n",
    "layers = np.zeros((layers_count, height, width))\n",
    "\n",
    "for l in range(layers_count):   \n",
    "    for y in range(height):\n",
    "        for x in range(width):\n",
    "            layers[l, y, x] = int(pixels.pop(0))"
   ]
  },
  {
   "cell_type": "markdown",
   "metadata": {},
   "source": [
    "__Part 1__"
   ]
  },
  {
   "cell_type": "code",
   "execution_count": null,
   "metadata": {},
   "outputs": [],
   "source": [
    "min_zeros = sys.maxsize\n",
    "output = None\n",
    "for l in range(layers_count):\n",
    "    counter = collections.Counter(layers[l].flatten())\n",
    "    if counter[0] < min_zeros:\n",
    "        output = counter[1] * counter[2]\n",
    "        min_zeros = counter[0]"
   ]
  },
  {
   "cell_type": "code",
   "execution_count": null,
   "metadata": {},
   "outputs": [],
   "source": [
    "output"
   ]
  },
  {
   "cell_type": "markdown",
   "metadata": {},
   "source": [
    "__Part 2__"
   ]
  },
  {
   "cell_type": "code",
   "execution_count": null,
   "metadata": {},
   "outputs": [],
   "source": [
    "for y in range(height):\n",
    "    for x in range(width):\n",
    "        val = next(e for e in np.array(layers)[:, y, x] if e != 2)\n",
    "        \n",
    "        if val == 2:\n",
    "            print(\"?\", end=\"\")\n",
    "        elif val == 1:\n",
    "            print(\"#\", end=\"\")\n",
    "        elif val == 0:\n",
    "            print(\" \", end=\"\")\n",
    "    print()"
   ]
  },
  {
   "cell_type": "markdown",
   "metadata": {},
   "source": [
    "## Day 9\n",
    "\n",
    "http://adventofcode.com/2019/day/9"
   ]
  },
  {
   "cell_type": "code",
   "execution_count": null,
   "metadata": {},
   "outputs": [],
   "source": [
    "instructions = mapl(int, load_day(9)[0].split(\",\"))"
   ]
  },
  {
   "cell_type": "markdown",
   "metadata": {},
   "source": [
    "__Part 1__"
   ]
  },
  {
   "cell_type": "code",
   "execution_count": null,
   "metadata": {},
   "outputs": [],
   "source": [
    "prog = IntCode(instructions, [1])\n",
    "prog.get_last_output()"
   ]
  },
  {
   "cell_type": "markdown",
   "metadata": {},
   "source": [
    "__Part 2__"
   ]
  },
  {
   "cell_type": "code",
   "execution_count": null,
   "metadata": {},
   "outputs": [],
   "source": [
    "prog = IntCode(instructions, [2])\n",
    "prog.get_last_output()"
   ]
  },
  {
   "cell_type": "markdown",
   "metadata": {},
   "source": [
    "## Day 10\n",
    "\n",
    "http://adventofcode.com/2019/day/10"
   ]
  },
  {
   "cell_type": "code",
   "execution_count": null,
   "metadata": {},
   "outputs": [],
   "source": [
    "asteroids_belt = np.array(mapl(list, load_day(10)))"
   ]
  },
  {
   "cell_type": "code",
   "execution_count": null,
   "metadata": {},
   "outputs": [],
   "source": [
    "asteroids = set()\n",
    "for x in range(asteroids_belt.shape[0]):\n",
    "    for y in range(asteroids_belt.shape[1]):\n",
    "        if asteroids_belt[x, y] == \"#\":\n",
    "            asteroids.add((y, x))"
   ]
  },
  {
   "cell_type": "code",
   "execution_count": null,
   "metadata": {},
   "outputs": [],
   "source": [
    "stations2neighbors = collections.defaultdict(set)\n",
    "\n",
    "for sy, sx in asteroids:\n",
    "    for ay, ax in asteroids:\n",
    "        if (sy, sx) == (ay, ax):\n",
    "            continue\n",
    "            \n",
    "        y, x = (ay - sy, ax - sx)\n",
    "        gcd = abs(math.gcd(x, y))\n",
    "        stations2neighbors[(sy, sx)].add((y // gcd, x // gcd))"
   ]
  },
  {
   "cell_type": "markdown",
   "metadata": {},
   "source": [
    "__Part 1__"
   ]
  },
  {
   "cell_type": "code",
   "execution_count": null,
   "metadata": {},
   "outputs": [],
   "source": [
    "max_value, station = max((len(x), pos) for pos, x in stations2neighbors.items())"
   ]
  },
  {
   "cell_type": "code",
   "execution_count": null,
   "metadata": {},
   "outputs": [],
   "source": [
    "max_value, station"
   ]
  },
  {
   "cell_type": "markdown",
   "metadata": {},
   "source": [
    "__Part 2__"
   ]
  },
  {
   "cell_type": "code",
   "execution_count": null,
   "metadata": {},
   "outputs": [],
   "source": [
    "to_zap = sorted(((math.atan2(dy, dx), (dy, dx)) for dy, dx in stations2neighbors[station]), reverse=True)\n",
    "\n",
    "_, (dy, dx) = to_zap[200-1]\n",
    "\n",
    "y, x = station[0] + dy, station[1] + dx\n",
    "while (x, y) not in asteroids:\n",
    "    x, y = x + dx, y + dy"
   ]
  },
  {
   "cell_type": "code",
   "execution_count": null,
   "metadata": {},
   "outputs": [],
   "source": [
    "y*100 + x"
   ]
  },
  {
   "cell_type": "markdown",
   "metadata": {},
   "source": [
    "## Day 11\n",
    "\n",
    "http://adventofcode.com/2019/day/11"
   ]
  },
  {
   "cell_type": "code",
   "execution_count": null,
   "metadata": {},
   "outputs": [],
   "source": [
    "instructions = mapl(int, load_day(11)[0].split(\",\"))"
   ]
  },
  {
   "cell_type": "code",
   "execution_count": null,
   "metadata": {},
   "outputs": [],
   "source": [
    "DIRECTIONS = [(0, -1), (1, 0), (0, 1), (-1, 0)]"
   ]
  },
  {
   "cell_type": "code",
   "execution_count": null,
   "metadata": {},
   "outputs": [],
   "source": [
    "def paint(instructions, start_color=0):\n",
    "    x, y = 0, 0\n",
    "    direction = 0\n",
    "\n",
    "    panels = collections.defaultdict(int)\n",
    "    panels[(x,y)] = start_color\n",
    "    \n",
    "    prog = IntCode(instructions, [panels[(x,y)]])\n",
    "    execute = prog.run()\n",
    "\n",
    "    for output1, output2 in zip(execute, execute):\n",
    "        panels[(x,y)] = output1\n",
    "        direction = ((direction + 1) if output2 == 1 else (direction - 1 + len(DIRECTIONS))) % len(DIRECTIONS)\n",
    "        x,y = x + DIRECTIONS[direction][0], y + DIRECTIONS[direction][1]\n",
    "        prog.inputs.append(panels[(x,y)])\n",
    "        \n",
    "    return panels"
   ]
  },
  {
   "cell_type": "markdown",
   "metadata": {},
   "source": [
    "__Part 1__"
   ]
  },
  {
   "cell_type": "code",
   "execution_count": null,
   "metadata": {},
   "outputs": [],
   "source": [
    "panels = paint(instructions, start_color=0)"
   ]
  },
  {
   "cell_type": "code",
   "execution_count": null,
   "metadata": {},
   "outputs": [],
   "source": [
    "len(panels)"
   ]
  },
  {
   "cell_type": "markdown",
   "metadata": {},
   "source": [
    "__Part 2__"
   ]
  },
  {
   "cell_type": "code",
   "execution_count": null,
   "metadata": {},
   "outputs": [],
   "source": [
    "panels = paint(instructions, start_color=1)\n",
    "\n",
    "xs = [x for x, y in panels]\n",
    "ys = [y for x, y in panels]\n",
    "\n",
    "for y in range(min(ys), max(ys)+1):\n",
    "    for x in range(min(xs), max(xs)+1):\n",
    "\n",
    "        print(\"#\" if panels[(x, y)] else \" \", end=\"\")\n",
    "        \n",
    "    print()"
   ]
  },
  {
   "cell_type": "markdown",
   "metadata": {},
   "source": [
    "## Day 12\n",
    "\n",
    "http://adventofcode.com/2019/day/12"
   ]
  },
  {
   "cell_type": "code",
   "execution_count": null,
   "metadata": {},
   "outputs": [],
   "source": [
    "content = load_day(12)"
   ]
  },
  {
   "cell_type": "code",
   "execution_count": null,
   "metadata": {},
   "outputs": [],
   "source": [
    "planets = np.array([extract_ints(line) for line in content])\n",
    "combinations = np.array(list(itertools.combinations(range(len(planets)), 2)))"
   ]
  },
  {
   "cell_type": "code",
   "execution_count": null,
   "metadata": {},
   "outputs": [],
   "source": [
    "base_state = np.zeros((len(planets), 6), dtype=int)\n",
    "base_state[:, :3] = planets"
   ]
  },
  {
   "cell_type": "markdown",
   "metadata": {},
   "source": [
    "__Part 1__"
   ]
  },
  {
   "cell_type": "code",
   "execution_count": null,
   "metadata": {},
   "outputs": [],
   "source": [
    "state = base_state.copy()\n",
    "\n",
    "for _ in range(1000):\n",
    "    np.add.at(state[:, 3:], combinations, np.sign(state[combinations, :3][:,[1, 0]] - state[combinations, :3][:,[0, 1]]))\n",
    "    state[:, :3] += state[:, 3:]\n",
    "\n",
    "(np.abs(state[:, :3]).sum(axis=1) * np.abs(state[:, 3:]).sum(axis=1)).sum()"
   ]
  },
  {
   "cell_type": "markdown",
   "metadata": {},
   "source": [
    "__Part 2__"
   ]
  },
  {
   "cell_type": "code",
   "execution_count": null,
   "metadata": {},
   "outputs": [],
   "source": [
    "state = base_state.copy()"
   ]
  },
  {
   "cell_type": "code",
   "execution_count": null,
   "metadata": {},
   "outputs": [],
   "source": [
    "#TODO"
   ]
  },
  {
   "cell_type": "markdown",
   "metadata": {},
   "source": [
    "## Day 13\n",
    "\n",
    "http://adventofcode.com/2019/day/13"
   ]
  },
  {
   "cell_type": "code",
   "execution_count": null,
   "metadata": {},
   "outputs": [],
   "source": [
    "instructions = mapl(int, load_day(13)[0].split(\",\"))"
   ]
  },
  {
   "cell_type": "markdown",
   "metadata": {},
   "source": [
    "__Part 1__"
   ]
  },
  {
   "cell_type": "code",
   "execution_count": null,
   "metadata": {},
   "outputs": [],
   "source": [
    "prog = IntCode(instructions)"
   ]
  },
  {
   "cell_type": "code",
   "execution_count": null,
   "metadata": {},
   "outputs": [],
   "source": [
    "outputs = [out for out in prog.run()]"
   ]
  },
  {
   "cell_type": "code",
   "execution_count": null,
   "metadata": {},
   "outputs": [],
   "source": [
    "collections.Counter(outputs[2:][::3])[2]"
   ]
  },
  {
   "cell_type": "markdown",
   "metadata": {},
   "source": [
    "__Part 2__"
   ]
  },
  {
   "cell_type": "code",
   "execution_count": null,
   "metadata": {},
   "outputs": [],
   "source": [
    "prog = IntCode(instructions)\n",
    "prog.memory[0] = 2\n",
    "\n",
    "move = 0\n",
    "score = 0\n",
    "ball = (0,0)\n",
    "paddle = (0,0)\n",
    "\n",
    "pixels = collections.defaultdict(int)\n",
    "\n",
    "iteration = 0\n",
    "while True:\n",
    "    prog.inputs.append(move)\n",
    "    outputs = [out for out in prog.run()]\n",
    " \n",
    "    while outputs:\n",
    "        x = outputs.pop(0)\n",
    "        y = outputs.pop(0)\n",
    "        tile_id = outputs.pop(0)\n",
    "\n",
    "        if (x, y) == (-1, 0):\n",
    "            score = tile_id\n",
    "        else:\n",
    "            pixels[(x, y)] = tile_id\n",
    "\n",
    "            if tile_id == 4:\n",
    "                ball = (x, y)\n",
    "            elif tile_id == 3:\n",
    "                paddle = (x, y)\n",
    "            \n",
    "    if ball[0] < paddle[0]:\n",
    "        move = -1\n",
    "    elif ball[0] > paddle[0]:\n",
    "        move = 1\n",
    "    else:\n",
    "        move = 0\n",
    "        \n",
    "    if collections.Counter(pixels.values()).get(2, 0) == 0:\n",
    "        break"
   ]
  },
  {
   "cell_type": "code",
   "execution_count": null,
   "metadata": {},
   "outputs": [],
   "source": [
    "score"
   ]
  },
  {
   "cell_type": "markdown",
   "metadata": {},
   "source": [
    "## Day 14\n",
    "\n",
    "http://adventofcode.com/2019/day/14"
   ]
  },
  {
   "cell_type": "code",
   "execution_count": null,
   "metadata": {},
   "outputs": [],
   "source": [
    "content = load_day(14)"
   ]
  },
  {
   "cell_type": "code",
   "execution_count": null,
   "metadata": {},
   "outputs": [],
   "source": [
    "reactions = {}\n",
    "for line in content:\n",
    "    *inputs, (out_qty, out_elem) = re.findall(r'(\\d+) (\\w+)', line)\n",
    "    reactions[out_elem] = (int(out_qty), mapl(lambda x: (int(x[0]), x[1]), inputs))"
   ]
  },
  {
   "cell_type": "code",
   "execution_count": null,
   "metadata": {},
   "outputs": [],
   "source": [
    "def get_required_ore(fuel_amount):\n",
    "\n",
    "    needed = {\n",
    "        'FUEL': fuel_amount\n",
    "    }\n",
    "\n",
    "    def get_requirements():\n",
    "        return [elem for elem, qty in needed.items() if qty > 0 and elem != 'ORE']\n",
    "\n",
    "    while get_requirements():\n",
    "        for element in get_requirements():\n",
    "            qty, inputs = reactions[element]\n",
    "            scaling = (needed[element] + qty - 1) // qty\n",
    "\n",
    "            for (src_qty, src_elem) in inputs:\n",
    "                needed[src_elem] = needed.get(src_elem, 0) + scaling*src_qty\n",
    "\n",
    "            needed[element] -= scaling*qty\n",
    "\n",
    "    return needed['ORE']"
   ]
  },
  {
   "cell_type": "markdown",
   "metadata": {},
   "source": [
    "__Part 1__"
   ]
  },
  {
   "cell_type": "code",
   "execution_count": null,
   "metadata": {},
   "outputs": [],
   "source": [
    "get_required_ore(1)"
   ]
  },
  {
   "cell_type": "markdown",
   "metadata": {},
   "source": [
    "__Part 2__"
   ]
  },
  {
   "cell_type": "code",
   "execution_count": null,
   "metadata": {},
   "outputs": [],
   "source": [
    "ore_low  = 1\n",
    "ore_high = 10\n",
    "ore_amount = 10e11\n",
    "\n",
    "while get_required_ore(ore_high) <= ore_amount:\n",
    "    ore_high *= 10\n",
    "    \n",
    "# Use binary search\n",
    "while ore_high - ore_low > 1:\n",
    "    ore_middle = (ore_high + ore_low) // 2\n",
    "    if get_required_ore(ore_middle) <= ore_amount:\n",
    "        ore_low = ore_middle\n",
    "    else:\n",
    "        ore_high = ore_middle"
   ]
  },
  {
   "cell_type": "code",
   "execution_count": null,
   "metadata": {},
   "outputs": [],
   "source": [
    "print(ore_low)"
   ]
  },
  {
   "cell_type": "markdown",
   "metadata": {},
   "source": [
    "## Day 15\n",
    "\n",
    "http://adventofcode.com/2019/day/15"
   ]
  },
  {
   "cell_type": "code",
   "execution_count": null,
   "metadata": {},
   "outputs": [],
   "source": [
    "instructions = mapl(int, load_day(15)[0].split(\",\"))"
   ]
  },
  {
   "cell_type": "markdown",
   "metadata": {},
   "source": [
    "__Part 1__"
   ]
  },
  {
   "cell_type": "markdown",
   "metadata": {},
   "source": [
    "__Part 2__"
   ]
  },
  {
   "cell_type": "markdown",
   "metadata": {},
   "source": [
    "## Day 16\n",
    "\n",
    "http://adventofcode.com/2019/day/16"
   ]
  },
  {
   "cell_type": "code",
   "execution_count": null,
   "metadata": {},
   "outputs": [],
   "source": [
    "content = mapl(int, list(load_day(16)[0]))"
   ]
  },
  {
   "cell_type": "markdown",
   "metadata": {},
   "source": [
    "__Part 1__"
   ]
  },
  {
   "cell_type": "markdown",
   "metadata": {},
   "source": [
    "__Part 2__"
   ]
  },
  {
   "cell_type": "markdown",
   "metadata": {},
   "source": [
    "## Day 17\n",
    "\n",
    "http://adventofcode.com/2019/day/17"
   ]
  },
  {
   "cell_type": "code",
   "execution_count": null,
   "metadata": {},
   "outputs": [],
   "source": [
    "instructions = mapl(int, load_day(17)[0].split(\",\"))"
   ]
  },
  {
   "cell_type": "markdown",
   "metadata": {},
   "source": [
    "__Part 1__"
   ]
  },
  {
   "cell_type": "code",
   "execution_count": null,
   "metadata": {},
   "outputs": [],
   "source": [
    "prog = IntCode(instructions)\n",
    "scaffolding = \"\".join(chr(o) for o in prog.run()).strip().split(\"\\n\")\n",
    "height = len(scaffolding)\n",
    "width = len(scaffolding[0])"
   ]
  },
  {
   "cell_type": "code",
   "execution_count": null,
   "metadata": {},
   "outputs": [],
   "source": [
    "def is_intersection(x, y):\n",
    "    if x <= 1 or y <= 1 or x+1 > width-1 or y+1 > height-1:\n",
    "        return False\n",
    "    \n",
    "    return (scaffolding[y][x] == \"#\" \n",
    "            and scaffolding[y][x+1] == \"#\" \n",
    "            and scaffolding[y][x-1] == \"#\" \n",
    "            and scaffolding[y+1][x] == \"#\"\n",
    "            and scaffolding[y-1][x] == \"#\")"
   ]
  },
  {
   "cell_type": "code",
   "execution_count": null,
   "metadata": {},
   "outputs": [],
   "source": [
    "crossing = []\n",
    "for y in range(height):\n",
    "    for x in range(width-1):\n",
    "        if is_intersection(x, y):\n",
    "            crossing.append((x*y))"
   ]
  },
  {
   "cell_type": "code",
   "execution_count": null,
   "metadata": {},
   "outputs": [],
   "source": [
    "sum(crossing)"
   ]
  },
  {
   "cell_type": "markdown",
   "metadata": {},
   "source": [
    "__Part 2__"
   ]
  },
  {
   "cell_type": "markdown",
   "metadata": {},
   "source": [
    "## Day 18\n",
    "\n",
    "http://adventofcode.com/2019/day/18"
   ]
  },
  {
   "cell_type": "markdown",
   "metadata": {},
   "source": [
    "__Part 1__"
   ]
  },
  {
   "cell_type": "markdown",
   "metadata": {},
   "source": [
    "__Part 2__"
   ]
  },
  {
   "cell_type": "markdown",
   "metadata": {},
   "source": [
    "## Day 19\n",
    "\n",
    "http://adventofcode.com/2019/day/19"
   ]
  },
  {
   "cell_type": "code",
   "execution_count": null,
   "metadata": {},
   "outputs": [],
   "source": [
    "instructions = mapl(int, load_day(19)[0].split(\",\"))"
   ]
  },
  {
   "cell_type": "code",
   "execution_count": null,
   "metadata": {},
   "outputs": [],
   "source": [
    "values = {}\n",
    "\n",
    "def get_beam_value(x, y):\n",
    "    if (x, y) not in values:\n",
    "        values[(x, y)] = IntCode(instructions, [x, y]).get_last_output()\n",
    "    return values[(x, y)] "
   ]
  },
  {
   "cell_type": "markdown",
   "metadata": {},
   "source": [
    "__Part 1__"
   ]
  },
  {
   "cell_type": "code",
   "execution_count": null,
   "metadata": {},
   "outputs": [],
   "source": [
    "sum(get_beam_value(x, y) for x in range(50) for y in range(50))"
   ]
  },
  {
   "cell_type": "markdown",
   "metadata": {},
   "source": [
    "__Part 2__"
   ]
  },
  {
   "cell_type": "code",
   "execution_count": null,
   "metadata": {},
   "outputs": [],
   "source": [
    "x = 0\n",
    "for y in range(100, 100000):\n",
    "    while not get_beam_value(x, y):\n",
    "        x += 1\n",
    "    if get_beam_value(x+99, y-99):\n",
    "        break"
   ]
  },
  {
   "cell_type": "code",
   "execution_count": null,
   "metadata": {},
   "outputs": [],
   "source": [
    " 10000*x + (y-99)"
   ]
  },
  {
   "cell_type": "markdown",
   "metadata": {},
   "source": [
    "## Day 20\n",
    "\n",
    "http://adventofcode.com/2019/day/20"
   ]
  },
  {
   "cell_type": "code",
   "execution_count": null,
   "metadata": {},
   "outputs": [],
   "source": [
    "content = load_day(20)"
   ]
  },
  {
   "cell_type": "markdown",
   "metadata": {},
   "source": [
    "__Part 1__"
   ]
  },
  {
   "cell_type": "markdown",
   "metadata": {},
   "source": [
    "__Part 2__"
   ]
  },
  {
   "cell_type": "markdown",
   "metadata": {},
   "source": [
    "## Day 21\n",
    "\n",
    "http://adventofcode.com/2019/day/21"
   ]
  },
  {
   "cell_type": "code",
   "execution_count": null,
   "metadata": {},
   "outputs": [],
   "source": [
    "instructions = mapl(int, load_day(21)[0].split(\",\"))"
   ]
  },
  {
   "cell_type": "markdown",
   "metadata": {},
   "source": [
    "__Part 1__"
   ]
  },
  {
   "cell_type": "code",
   "execution_count": null,
   "metadata": {},
   "outputs": [],
   "source": [
    "commands = [\"NOT A J\", \"NOT B T\", \"OR T J\", \"NOT C T\", \"OR T J\", \"NOT D T\", \"NOT T T\", \"AND T J\", \"WALK\"]\n",
    "inputs = mapl(ord, \"\\n\".join(commands) + \"\\n\")\n",
    "prog = IntCode(instructions, inputs)\n",
    "out = [chr(x) if x < 127 else x for x in prog.run()]\n",
    "print(''.join(map(str, out)))"
   ]
  },
  {
   "cell_type": "markdown",
   "metadata": {},
   "source": [
    "__Part 2__"
   ]
  },
  {
   "cell_type": "code",
   "execution_count": null,
   "metadata": {},
   "outputs": [],
   "source": [
    "commands = [\"NOT A J\", \"NOT B T\", \"OR T J\", \"NOT C T\", \"OR T J\", \"NOT D T\", \"NOT T T\", \"AND T J\", \"NOT I T\", \"NOT T T\", \"OR F T\", \"AND E T\", \"OR H T\", \"AND T J\", \"RUN\"]\n",
    "inputs = mapl(ord, \"\\n\".join(commands) + \"\\n\")\n",
    "prog = IntCode(instructions, inputs)\n",
    "out = [chr(x) if x < 127 else x for x in prog.run()]\n",
    "print(''.join(map(str, out)))"
   ]
  },
  {
   "cell_type": "markdown",
   "metadata": {},
   "source": [
    "## Day 22\n",
    "\n",
    "http://adventofcode.com/2019/day/22"
   ]
  },
  {
   "cell_type": "code",
   "execution_count": null,
   "metadata": {},
   "outputs": [],
   "source": [
    "content = load_day(22)"
   ]
  },
  {
   "cell_type": "markdown",
   "metadata": {},
   "source": [
    "__Part 1__"
   ]
  },
  {
   "cell_type": "markdown",
   "metadata": {},
   "source": [
    "__Part 2__"
   ]
  },
  {
   "cell_type": "markdown",
   "metadata": {},
   "source": [
    "## Day 23\n",
    "\n",
    "http://adventofcode.com/2019/day/23"
   ]
  },
  {
   "cell_type": "code",
   "execution_count": null,
   "metadata": {},
   "outputs": [],
   "source": [
    "content = load_day(23)"
   ]
  },
  {
   "cell_type": "markdown",
   "metadata": {},
   "source": [
    "__Part 1__"
   ]
  },
  {
   "cell_type": "markdown",
   "metadata": {},
   "source": [
    "__Part 2__"
   ]
  },
  {
   "cell_type": "markdown",
   "metadata": {},
   "source": [
    "## Day 24\n",
    "\n",
    "http://adventofcode.com/2019/day/24"
   ]
  },
  {
   "cell_type": "code",
   "execution_count": null,
   "metadata": {},
   "outputs": [],
   "source": [
    "content = load_day(24)"
   ]
  },
  {
   "cell_type": "markdown",
   "metadata": {},
   "source": [
    "__Part 1__"
   ]
  },
  {
   "cell_type": "markdown",
   "metadata": {},
   "source": [
    "__Part 2__"
   ]
  },
  {
   "cell_type": "markdown",
   "metadata": {},
   "source": [
    "## Day 25\n",
    "\n",
    "http://adventofcode.com/2019/day/25"
   ]
  },
  {
   "cell_type": "code",
   "execution_count": null,
   "metadata": {},
   "outputs": [],
   "source": [
    "content = load_day(25)"
   ]
  },
  {
   "cell_type": "markdown",
   "metadata": {},
   "source": [
    "__Part 1__"
   ]
  },
  {
   "cell_type": "markdown",
   "metadata": {},
   "source": [
    "__Part 2__"
   ]
  }
 ],
 "metadata": {
  "language_info": {
   "name": "python",
   "pygments_lexer": "ipython3"
  }
 },
 "nbformat": 4,
 "nbformat_minor": 2
}
