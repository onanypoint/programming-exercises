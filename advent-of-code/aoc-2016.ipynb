{
 "cells": [
  {
   "cell_type": "code",
   "execution_count": null,
   "metadata": {},
   "outputs": [],
   "source": [
    "import itertools\n",
    "import functools\n",
    "import collections\n",
    "import operator\n",
    "import sys\n",
    "import re\n",
    "import numpy as np\n",
    "import math"
   ]
  },
  {
   "cell_type": "code",
   "execution_count": null,
   "metadata": {},
   "outputs": [],
   "source": [
    "from helpers.functions import *"
   ]
  },
  {
   "cell_type": "markdown",
   "metadata": {},
   "source": [
    "Configuration"
   ]
  },
  {
   "cell_type": "code",
   "execution_count": null,
   "metadata": {},
   "outputs": [],
   "source": [
    "DIR = \"data/2016/\"\n",
    "load_day = functools.partial(load, DIR)"
   ]
  },
  {
   "cell_type": "markdown",
   "metadata": {},
   "source": [
    "# Problems"
   ]
  },
  {
   "cell_type": "markdown",
   "metadata": {},
   "source": [
    "## Day 1\n",
    "\n",
    "http://adventofcode.com/2016/day/1\n"
   ]
  },
  {
   "cell_type": "code",
   "execution_count": null,
   "metadata": {},
   "outputs": [],
   "source": [
    "content = mapl(str.strip, load_day(1)[0].split(\",\"))"
   ]
  },
  {
   "cell_type": "code",
   "execution_count": null,
   "metadata": {},
   "outputs": [],
   "source": [
    "MOVES = {\n",
    "    0: ( 0,-1),\n",
    "    1: (1, 0),\n",
    "    2: ( 0, 1),\n",
    "    3: (-1, 0),\n",
    "}"
   ]
  },
  {
   "cell_type": "markdown",
   "metadata": {},
   "source": [
    "__Part 1__"
   ]
  },
  {
   "cell_type": "code",
   "execution_count": null,
   "metadata": {},
   "outputs": [],
   "source": [
    "direction = 2 #S=0, E=1, N=2, W=3\n",
    "pos = (0,0)\n",
    "\n",
    "for turn, *dist in content:\n",
    "    if turn == \"R\":\n",
    "        direction = (direction + 1) % 4\n",
    "    elif turn == \"L\":\n",
    "        direction = (direction - 1) % 4\n",
    "\n",
    "    pos = tuple(add(pos, mult(MOVES[direction], int(\"\".join(dist)))))\n",
    "\n",
    "sum(mapl(abs,pos))"
   ]
  },
  {
   "cell_type": "markdown",
   "metadata": {},
   "source": [
    "__Part 2__"
   ]
  },
  {
   "cell_type": "code",
   "execution_count": null,
   "metadata": {},
   "outputs": [],
   "source": [
    "direction = 2 #S=0, E=1, N=2, W=3\n",
    "pos = (0,0)\n",
    "visited = []\n",
    "\n",
    "try:\n",
    "    for turn, *dist in content:\n",
    "        if turn == \"R\":\n",
    "            direction = (direction + 1) % 4\n",
    "        elif turn == \"L\":\n",
    "            direction = (direction - 1) % 4\n",
    "\n",
    "        for i in range(int(\"\".join(dist))):\n",
    "            pos = tuple(add(pos, MOVES[direction]))\n",
    "\n",
    "            if pos in visited:\n",
    "                raise\n",
    "\n",
    "            visited.append(pos)\n",
    "            \n",
    "except:\n",
    "    print(sum(mapl(abs,pos)))"
   ]
  }
 ],
 "metadata": {
  "kernelspec": {
   "display_name": "Python 3",
   "language": "python",
   "name": "python3"
  },
  "language_info": {
   "codemirror_mode": {
    "name": "ipython",
    "version": 3
   },
   "file_extension": ".py",
   "mimetype": "text/x-python",
   "name": "python",
   "nbconvert_exporter": "python",
   "pygments_lexer": "ipython3",
   "version": "3.6.4"
  }
 },
 "nbformat": 4,
 "nbformat_minor": 2
}
