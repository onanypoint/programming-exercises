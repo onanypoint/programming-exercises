{
 "cells": [
  {
   "cell_type": "code",
   "execution_count": null,
   "metadata": {},
   "outputs": [],
   "source": [
    "import itertools\n",
    "import functools\n",
    "import collections\n",
    "import operator\n",
    "import sys\n",
    "import re\n",
    "import numpy as np\n",
    "import math\n",
    "import hashlib"
   ]
  },
  {
   "cell_type": "code",
   "execution_count": null,
   "metadata": {},
   "outputs": [],
   "source": [
    "from helpers.functions import *"
   ]
  },
  {
   "cell_type": "markdown",
   "metadata": {},
   "source": [
    "Configuration"
   ]
  },
  {
   "cell_type": "code",
   "execution_count": null,
   "metadata": {},
   "outputs": [],
   "source": [
    "DIR = \"data/2016/\"\n",
    "load_day = functools.partial(load, DIR)"
   ]
  },
  {
   "cell_type": "markdown",
   "metadata": {},
   "source": [
    "# Problems"
   ]
  },
  {
   "cell_type": "markdown",
   "metadata": {},
   "source": [
    "## Day 1\n",
    "\n",
    "http://adventofcode.com/2016/day/1\n"
   ]
  },
  {
   "cell_type": "code",
   "execution_count": null,
   "metadata": {},
   "outputs": [],
   "source": [
    "content = mapl(str.strip, load_day(1)[0].split(\",\"))"
   ]
  },
  {
   "cell_type": "code",
   "execution_count": null,
   "metadata": {},
   "outputs": [],
   "source": [
    "MOVES = {\n",
    "    0: ( 0,-1),\n",
    "    1: (1, 0),\n",
    "    2: ( 0, 1),\n",
    "    3: (-1, 0),\n",
    "}"
   ]
  },
  {
   "cell_type": "markdown",
   "metadata": {},
   "source": [
    "__Part 1__"
   ]
  },
  {
   "cell_type": "code",
   "execution_count": null,
   "metadata": {},
   "outputs": [],
   "source": [
    "direction = 2 #S=0, E=1, N=2, W=3\n",
    "pos = (0,0)\n",
    "\n",
    "for turn, *dist in content:\n",
    "    if turn == \"R\":\n",
    "        direction = (direction + 1) % 4\n",
    "    elif turn == \"L\":\n",
    "        direction = (direction - 1) % 4\n",
    "\n",
    "    pos = tuple(add(pos, mult(MOVES[direction], int(\"\".join(dist)))))\n",
    "\n",
    "sum(mapl(abs,pos))"
   ]
  },
  {
   "cell_type": "markdown",
   "metadata": {},
   "source": [
    "__Part 2__"
   ]
  },
  {
   "cell_type": "code",
   "execution_count": null,
   "metadata": {},
   "outputs": [],
   "source": [
    "direction = 2 #S=0, E=1, N=2, W=3\n",
    "pos = (0,0)\n",
    "visited = []\n",
    "\n",
    "try:\n",
    "    for turn, *dist in content:\n",
    "        if turn == \"R\":\n",
    "            direction = (direction + 1) % 4\n",
    "        elif turn == \"L\":\n",
    "            direction = (direction - 1) % 4\n",
    "\n",
    "        for i in range(int(\"\".join(dist))):\n",
    "            pos = tuple(add(pos, MOVES[direction]))\n",
    "\n",
    "            if pos in visited:\n",
    "                raise\n",
    "\n",
    "            visited.append(pos)\n",
    "            \n",
    "except:\n",
    "    print(sum(mapl(abs,pos)))"
   ]
  },
  {
   "cell_type": "markdown",
   "metadata": {},
   "source": [
    "## Day 2\n",
    "\n",
    "http://adventofcode.com/2016/day/2"
   ]
  },
  {
   "cell_type": "code",
   "execution_count": null,
   "metadata": {},
   "outputs": [],
   "source": [
    "content = mapl(str.strip, load_day(2))\n",
    "\n",
    "def solve(keypad, content, start, stop=0):\n",
    "    MOVES = {\n",
    "        \"U\": (-1, 0),\n",
    "        \"D\": ( 1, 0),\n",
    "        \"L\": ( 0,-1),\n",
    "        \"R\": ( 0, 1),\n",
    "    }\n",
    "\n",
    "    code = []\n",
    "    pos = start\n",
    "    for line in content:\n",
    "        for c in line:\n",
    "            new_pos = tuple(add(pos, MOVES[c]))\n",
    "            if keypad[new_pos] != stop:\n",
    "                pos = new_pos\n",
    "        code.append(keypad[pos])\n",
    "\n",
    "    return code"
   ]
  },
  {
   "cell_type": "markdown",
   "metadata": {},
   "source": [
    "__Part 1__"
   ]
  },
  {
   "cell_type": "code",
   "execution_count": null,
   "metadata": {},
   "outputs": [],
   "source": [
    "keypad = np.array([\n",
    "    [0,0,0,0,0], \n",
    "    [0,1,2,3,0], \n",
    "    [0,4,5,6,0], \n",
    "    [0,7,8,9,0],\n",
    "    [0,0,0,0,0],\n",
    "])\n",
    "\n",
    "solve(keypad, content, (2,2))"
   ]
  },
  {
   "cell_type": "markdown",
   "metadata": {},
   "source": [
    "__Part 2__"
   ]
  },
  {
   "cell_type": "code",
   "execution_count": null,
   "metadata": {},
   "outputs": [],
   "source": [
    "keypad = np.array([\n",
    "    [0,0,0,0,0,0,0],\n",
    "    [0,0,0,1,0,0,0], \n",
    "    [0,0,2,3,4,0,0], \n",
    "    [0,5,6,7,8,9,0],\n",
    "    [0,0,\"A\",\"B\",\"C\",0,0],\n",
    "    [0,0,0,\"D\",0,0,0],\n",
    "    [0,0,0,0,0,0,0],\n",
    "])\n",
    "\n",
    "\n",
    "solve(keypad, content, (3,1), \"0\")"
   ]
  },
  {
   "cell_type": "markdown",
   "metadata": {},
   "source": [
    "## Day 3\n",
    "\n",
    "http://adventofcode.com/2016/day/3"
   ]
  },
  {
   "cell_type": "code",
   "execution_count": null,
   "metadata": {},
   "outputs": [],
   "source": [
    "content = load_day(3) \n",
    "content = mapl(lambda x: mapl(int, x.strip().split()), content)"
   ]
  },
  {
   "cell_type": "code",
   "execution_count": null,
   "metadata": {},
   "outputs": [],
   "source": [
    "def count(triangle):\n",
    "    triangles = [sorted(mapl(int, v)) for v in content]\n",
    "    return sum([a + b > c for a,b,c in triangles])\n",
    "    "
   ]
  },
  {
   "cell_type": "markdown",
   "metadata": {},
   "source": [
    "__Part 1__"
   ]
  },
  {
   "cell_type": "code",
   "execution_count": null,
   "metadata": {},
   "outputs": [],
   "source": [
    "count(content)"
   ]
  },
  {
   "cell_type": "markdown",
   "metadata": {},
   "source": [
    "__Part 2__"
   ]
  },
  {
   "cell_type": "code",
   "execution_count": null,
   "metadata": {},
   "outputs": [],
   "source": [
    "triangles = np.array(content).transpose((1,0)).reshape((1635, 3))"
   ]
  },
  {
   "cell_type": "code",
   "execution_count": null,
   "metadata": {},
   "outputs": [],
   "source": [
    "count(triangles)"
   ]
  },
  {
   "cell_type": "markdown",
   "metadata": {},
   "source": [
    "## Day 4\n",
    "\n",
    "http://adventofcode.com/2016/day/4"
   ]
  },
  {
   "cell_type": "code",
   "execution_count": null,
   "metadata": {},
   "outputs": [],
   "source": [
    "content = mapl(str.strip, load_day(4) )"
   ]
  },
  {
   "cell_type": "code",
   "execution_count": null,
   "metadata": {},
   "outputs": [],
   "source": [
    "count = 0\n",
    "sentences = []\n",
    "for v in content:\n",
    "    *words, check = v.split(\"-\")\n",
    "    sector, checksum = re.search(r\"(\\d*)\\[([a-z]*)\\]\", check).groups()\n",
    "    letters = collections.Counter(\"\".join(words))\n",
    "    common = \"\".join([k for k, _ in sorted(letters.items(), key=lambda x: (-x[1],x[0]), reverse=False)][:5])\n",
    "    if sorted(checksum) == sorted(common):\n",
    "        count += int(sector)    \n",
    "        sentences.append((decrypt_sentence(words, int(sector)), int(sector)))"
   ]
  },
  {
   "cell_type": "markdown",
   "metadata": {},
   "source": [
    "__Part 1__"
   ]
  },
  {
   "cell_type": "code",
   "execution_count": null,
   "metadata": {},
   "outputs": [],
   "source": [
    "count"
   ]
  },
  {
   "cell_type": "markdown",
   "metadata": {},
   "source": [
    "__Part 2__"
   ]
  },
  {
   "cell_type": "code",
   "execution_count": null,
   "metadata": {},
   "outputs": [],
   "source": [
    "sentences"
   ]
  },
  {
   "cell_type": "markdown",
   "metadata": {},
   "source": [
    "## Day 5\n",
    "\n",
    "http://adventofcode.com/2016/day/5"
   ]
  },
  {
   "cell_type": "code",
   "execution_count": null,
   "metadata": {},
   "outputs": [],
   "source": [
    "content = \"ugkcyxxp\""
   ]
  },
  {
   "cell_type": "markdown",
   "metadata": {},
   "source": [
    "__Part 1__"
   ]
  },
  {
   "cell_type": "code",
   "execution_count": null,
   "metadata": {},
   "outputs": [],
   "source": [
    "def find(text, count):\n",
    "    acc = []\n",
    "    i = 0\n",
    "    while len(acc) < count:\n",
    "        hsh = hashlib.md5(\"{}{}\".format(text, i).encode()).hexdigest()\n",
    "        if hsh[:5] == \"00000\":\n",
    "            acc.append(hsh[5])\n",
    "        i = i + 1\n",
    "        \n",
    "    return \"\".join(acc)"
   ]
  },
  {
   "cell_type": "code",
   "execution_count": null,
   "metadata": {},
   "outputs": [],
   "source": [
    "find(content, 8)"
   ]
  },
  {
   "cell_type": "markdown",
   "metadata": {},
   "source": [
    "__Part 2__"
   ]
  },
  {
   "cell_type": "code",
   "execution_count": null,
   "metadata": {},
   "outputs": [],
   "source": [
    "def find(text):\n",
    "    acc = [\"_\"] * 8\n",
    "    i = 0\n",
    "    while \"_\" in acc:\n",
    "        hsh = hashlib.md5(\"{}{}\".format(text, i).encode()).hexdigest()\n",
    "        if hsh[:5] == \"00000\":\n",
    "            idx  = int(hsh[5], 16)\n",
    "            char = hsh[6]\n",
    "            if idx < 8 and acc[idx] == \"_\":\n",
    "                acc[idx] = char\n",
    "                print(acc)\n",
    "\n",
    "        i = i + 1\n",
    "        \n",
    "    return \"\".join(acc)"
   ]
  },
  {
   "cell_type": "code",
   "execution_count": null,
   "metadata": {},
   "outputs": [],
   "source": [
    "find(content)"
   ]
  },
  {
   "cell_type": "markdown",
   "metadata": {},
   "source": [
    "## Day 6\n",
    "\n",
    "http://adventofcode.com/2016/day/6"
   ]
  },
  {
   "cell_type": "code",
   "execution_count": null,
   "metadata": {},
   "outputs": [],
   "source": [
    "content = mapl(lambda x: list(x.strip()), load_day(6))"
   ]
  },
  {
   "cell_type": "code",
   "execution_count": null,
   "metadata": {},
   "outputs": [],
   "source": [
    "part1 = []\n",
    "part2 = []\n",
    "for col in np.array(content).transpose((1,0)):\n",
    "    distrib = collections.Counter(col)\n",
    "    sort = sorted(distrib.items(), key=lambda x: (x[1]), reverse=True)\n",
    "    part1.append(sort[0][0])\n",
    "    part2.append(sort[-1][0])"
   ]
  },
  {
   "cell_type": "markdown",
   "metadata": {},
   "source": [
    "__Part 1__"
   ]
  },
  {
   "cell_type": "code",
   "execution_count": null,
   "metadata": {},
   "outputs": [],
   "source": [
    "\"\".join(part1)"
   ]
  },
  {
   "cell_type": "markdown",
   "metadata": {},
   "source": [
    "__Part 2__"
   ]
  },
  {
   "cell_type": "code",
   "execution_count": null,
   "metadata": {},
   "outputs": [],
   "source": [
    "\"\".join(part2)"
   ]
  },
  {
   "cell_type": "markdown",
   "metadata": {},
   "source": [
    "## Day 7\n",
    "\n",
    "http://adventofcode.com/2016/day/7"
   ]
  },
  {
   "cell_type": "code",
   "execution_count": null,
   "metadata": {},
   "outputs": [],
   "source": [
    "content = mapl(str.strip, load_day(7))"
   ]
  },
  {
   "cell_type": "markdown",
   "metadata": {},
   "source": [
    "__Part 1__"
   ]
  },
  {
   "cell_type": "code",
   "execution_count": null,
   "metadata": {},
   "outputs": [],
   "source": [
    "def contains(s):\n",
    "    for a,b,c,d in zip(s, s[1:], s[2:], s[3:]):\n",
    "        if a == d and b == c and a != b:\n",
    "            return True\n",
    "    return False"
   ]
  },
  {
   "cell_type": "code",
   "execution_count": null,
   "metadata": {},
   "outputs": [],
   "source": [
    "count = 0\n",
    "for ip in content:\n",
    "    hyper = re.findall(\"\\[(.*?)\\]\", ip)\n",
    "    normal = re.split(\"\\[.*?\\]\", ip)\n",
    "    count += any(contains(n) for n in normal) and not any(contains(h) for h in hyper)"
   ]
  },
  {
   "cell_type": "code",
   "execution_count": null,
   "metadata": {},
   "outputs": [],
   "source": [
    "count"
   ]
  },
  {
   "cell_type": "markdown",
   "metadata": {},
   "source": [
    "__Part 2__"
   ]
  },
  {
   "cell_type": "code",
   "execution_count": null,
   "metadata": {},
   "outputs": [],
   "source": [
    "def contains(s):\n",
    "    for a,b,c in zip(s, s[1:], s[2:]):\n",
    "        if a == c and a != b:\n",
    "            yield (a,b,c)"
   ]
  },
  {
   "cell_type": "code",
   "execution_count": null,
   "metadata": {},
   "outputs": [],
   "source": [
    "count = 0\n",
    "for ip in content:\n",
    "    hyper  = [sol for net in re.findall(\"\\[(.*?)\\]\", ip) for sol in contains(net)]\n",
    "    normal = [sol  for net in re.split(\"\\[.*?\\]\", ip) for sol in contains(net)]\n",
    "    reverse = [(b,a,b) for a,b,c in normal]\n",
    "    count += any([h in reverse for h in hyper])"
   ]
  },
  {
   "cell_type": "code",
   "execution_count": null,
   "metadata": {},
   "outputs": [],
   "source": [
    "count"
   ]
  },
  {
   "cell_type": "markdown",
   "metadata": {},
   "source": [
    "## Day 8\n",
    "\n",
    "http://adventofcode.com/2016/day/8"
   ]
  },
  {
   "cell_type": "code",
   "execution_count": null,
   "metadata": {},
   "outputs": [],
   "source": [
    "content = mapl(str.strip, load_day(8))"
   ]
  },
  {
   "cell_type": "markdown",
   "metadata": {},
   "source": [
    "__Part 1__"
   ]
  },
  {
   "cell_type": "code",
   "execution_count": null,
   "metadata": {},
   "outputs": [],
   "source": [
    "display = np.zeros((6, 50))\n",
    "y, x = display.shape\n",
    "\n",
    "for line in content:\n",
    "    command, *parsed = line.split(\" \")\n",
    "\n",
    "    if command == \"rect\":\n",
    "        a, b = mapl(int, parsed[0].split(\"x\"))\n",
    "        display[:b, :a] = 1\n",
    "\n",
    "    elif command == \"rotate\":\n",
    "        side, a, _, b = parsed\n",
    "        a, b = int(a[2:]), int(b)\n",
    "        if side == \"column\":\n",
    "            display[:, a] = np.concatenate([display[-b%y:, a], display[:-b%y, a]])   \n",
    "        else: \n",
    "            display[a, :] = np.concatenate([display[a,-b%x:], display[ a, :-b%x]]) "
   ]
  },
  {
   "cell_type": "code",
   "execution_count": null,
   "metadata": {},
   "outputs": [],
   "source": [
    "display.sum()"
   ]
  },
  {
   "cell_type": "markdown",
   "metadata": {},
   "source": [
    "__Part 2__"
   ]
  },
  {
   "cell_type": "code",
   "execution_count": null,
   "metadata": {},
   "outputs": [],
   "source": [
    "for line in display:\n",
    "    for c in line:\n",
    "        print(\"#\" if c else \" \", end=\"\")\n",
    "    print()\n",
    "print()"
   ]
  },
  {
   "cell_type": "markdown",
   "metadata": {},
   "source": [
    "## Day 9\n",
    "\n",
    "http://adventofcode.com/2016/day/9"
   ]
  },
  {
   "cell_type": "code",
   "execution_count": null,
   "metadata": {},
   "outputs": [],
   "source": [
    "content = load_day(9)[0].strip()"
   ]
  },
  {
   "cell_type": "markdown",
   "metadata": {},
   "source": [
    "__Part 1__"
   ]
  },
  {
   "cell_type": "code",
   "execution_count": null,
   "metadata": {},
   "outputs": [],
   "source": [
    "s = \"\"\n",
    "i = 0\n",
    "while i < len(content):\n",
    "    match = re.search(\"^\\((\\d*)x(\\d*)\\)\", content[i:])\n",
    "    if match:\n",
    "        length, rep = list(map(int,match.groups()))\n",
    "        s += content[match.span()[1]+1:][:length] * rep\n",
    "        i = i+match.span()[1]+length    \n",
    "    else:\n",
    "        s += content[i]  \n",
    "        i = i+1\n",
    "        \n",
    "    \n",
    "\n",
    "\n",
    "len(s)"
   ]
  },
  {
   "cell_type": "markdown",
   "metadata": {},
   "source": [
    "__Part 2__"
   ]
  },
  {
   "cell_type": "code",
   "execution_count": null,
   "metadata": {},
   "outputs": [],
   "source": [
    "def expand(s):\n",
    "    if s == \"\":\n",
    "        return 0\n",
    "    \n",
    "    match = re.search(\"^\\((\\d*)x(\\d*)\\)\", s)\n",
    "    if match:\n",
    "        length, rep = list(map(int,match.groups()))\n",
    "        tmp=s[match.span()[1]:][:length]\n",
    "        return expand(tmp) * int(rep)  + expand(s[match.span()[1]+length:])\n",
    "    else:\n",
    "        return 1 + expand(s[1:])\n",
    "\n",
    "expand(content)"
   ]
  },
  {
   "cell_type": "markdown",
   "metadata": {},
   "source": [
    "## Day 10\n",
    "\n",
    "http://adventofcode.com/2016/day/10"
   ]
  },
  {
   "cell_type": "code",
   "execution_count": null,
   "metadata": {},
   "outputs": [],
   "source": [
    "content = mapl(str.strip, load_day(10))"
   ]
  },
  {
   "cell_type": "markdown",
   "metadata": {},
   "source": [
    "__Part 1__"
   ]
  },
  {
   "cell_type": "code",
   "execution_count": null,
   "metadata": {},
   "outputs": [],
   "source": [
    "bots = collections.defaultdict(list)\n",
    "outputs = collections.defaultdict(list)\n",
    "\n",
    "types = {\n",
    "    \"bot\": bots,\n",
    "    \"output\": outputs,\n",
    "}\n",
    "\n",
    "instructions = {}\n",
    "for line in content:\n",
    "    parsed = line.split(\" \")\n",
    "    if parsed[0] == \"value\":\n",
    "        value, bot = int(parsed[1]), int(parsed[5])\n",
    "        bots[bot].append(value)\n",
    "    \n",
    "    if parsed[0] == \"bot\":\n",
    "        bot, low, low_idx, high, high_idx = int(parsed[1]), parsed[5], int(parsed[6]), parsed[10], int(parsed[11])\n",
    "        instructions[bot]= (low, low_idx), (high, high_idx)\n",
    "\n",
    "while bots:\n",
    "    for k,v in dict(bots).items():\n",
    "        if len(v) == 2:\n",
    "            v1, v2 = sorted(bots.pop(k))\n",
    "            if v1==17 and v2==61: print(k)\n",
    "            (t1,n1),(t2,n2) = instructions[k]\n",
    "            types[t1][n1].append(v1)\n",
    "            types[t2][n2].append(v2)"
   ]
  },
  {
   "cell_type": "markdown",
   "metadata": {},
   "source": [
    "__Part 2__"
   ]
  },
  {
   "cell_type": "code",
   "execution_count": null,
   "metadata": {},
   "outputs": [],
   "source": [
    "functools.reduce((lambda x, y: x * y), [outputs[k][0] for k in [0,1,2]])"
   ]
  },
  {
   "cell_type": "markdown",
   "metadata": {},
   "source": [
    "## Day 11\n",
    "\n",
    "http://adventofcode.com/2016/day/11"
   ]
  },
  {
   "cell_type": "code",
   "execution_count": null,
   "metadata": {},
   "outputs": [],
   "source": [
    "content = load_day(11)"
   ]
  },
  {
   "cell_type": "markdown",
   "metadata": {},
   "source": [
    "## Day 12\n",
    "\n",
    "http://adventofcode.com/2016/day/12\n",
    "\n"
   ]
  },
  {
   "cell_type": "code",
   "execution_count": null,
   "metadata": {},
   "outputs": [],
   "source": [
    "content = load_day(12)"
   ]
  },
  {
   "cell_type": "markdown",
   "metadata": {},
   "source": [
    "__Part 1__"
   ]
  },
  {
   "cell_type": "code",
   "execution_count": null,
   "metadata": {},
   "outputs": [],
   "source": [
    "registers = collections.defaultdict(int)\n",
    "\n",
    "def get(key):\n",
    "    try:\n",
    "        return int(key)\n",
    "    except:\n",
    "        return registers[key]\n",
    "\n",
    "i = 0\n",
    "while i < len(content):\n",
    "    a,X,Y = re.search(\"(\\w*) ([\\w|\\d]*)(?: (.*))?\", content[i]).groups()\n",
    "    if a == \"cpy\":\n",
    "        registers[Y] = get(X)\n",
    "    elif a == \"inc\":\n",
    "        registers[X] = registers[X] + 1\n",
    "    elif a == \"dec\":\n",
    "        registers[X] = registers[X] - 1\n",
    "    elif a == \"jnz\" and get(X) != 0:\n",
    "        i += get(Y) - 1\n",
    "    \n",
    "    i += 1"
   ]
  },
  {
   "cell_type": "code",
   "execution_count": null,
   "metadata": {},
   "outputs": [],
   "source": [
    "registers[\"a\"]"
   ]
  },
  {
   "cell_type": "markdown",
   "metadata": {},
   "source": [
    "__Part 2__"
   ]
  },
  {
   "cell_type": "code",
   "execution_count": null,
   "metadata": {},
   "outputs": [],
   "source": [
    "registers = collections.defaultdict(int)\n",
    "registers[\"c\"] = 1\n",
    "def get(key):\n",
    "    try:\n",
    "        return int(key)\n",
    "    except:\n",
    "        return registers[key]\n",
    "\n",
    "i = 0\n",
    "while i < len(content):\n",
    "    a,X,Y = re.search(\"(\\w*) ([\\w|\\d]*)(?: (.*))?\", content[i]).groups()\n",
    "    if a == \"cpy\":\n",
    "        registers[Y] = get(X)\n",
    "    elif a == \"inc\":\n",
    "        registers[X] = registers[X] + 1\n",
    "    elif a == \"dec\":\n",
    "        registers[X] = registers[X] - 1\n",
    "    elif a == \"jnz\" and get(X) != 0:\n",
    "        i += get(Y) - 1\n",
    "    \n",
    "    i += 1"
   ]
  },
  {
   "cell_type": "code",
   "execution_count": null,
   "metadata": {},
   "outputs": [],
   "source": [
    "registers[\"a\"]"
   ]
  },
  {
   "cell_type": "code",
   "execution_count": null,
   "metadata": {},
   "outputs": [],
   "source": []
  }
 ],
 "metadata": {
  "kernelspec": {
   "display_name": "Python 3",
   "language": "python",
   "name": "python3"
  },
  "language_info": {
   "codemirror_mode": {
    "name": "ipython",
    "version": 3
   },
   "file_extension": ".py",
   "mimetype": "text/x-python",
   "name": "python",
   "nbconvert_exporter": "python",
   "pygments_lexer": "ipython3",
   "version": "3.6.7"
  }
 },
 "nbformat": 4,
 "nbformat_minor": 2
}
