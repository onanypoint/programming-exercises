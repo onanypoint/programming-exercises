{
 "cells": [
  {
   "cell_type": "code",
   "execution_count": null,
   "metadata": {},
   "outputs": [],
   "source": [
    "import time \n",
    "import operator\n",
    "import subprocess\n",
    "import threading\n",
    "import numpy as np"
   ]
  },
  {
   "cell_type": "markdown",
   "metadata": {},
   "source": [
    "### 21\n",
    "\n",
    "This problem was asked by Snapchat.\n",
    "\n",
    "Given an array of time intervals (start, end) for classroom lectures (possibly overlapping), find the minimum number of rooms required.\n",
    "\n",
    "For example, given [(30, 75), (0, 50), (60, 150)], you should return 2."
   ]
  },
  {
   "cell_type": "code",
   "execution_count": null,
   "metadata": {},
   "outputs": [],
   "source": [
    "intervals = [(30, 75), (0, 50), (60, 150)]\n",
    "intervals = [(0,4),(6,11),(11,14),(3,7),(8,9),(12,16),(4,14)]\n",
    "\n",
    "# Runtime O(nlogn)\n",
    "# Could use better data structure to avoid looping through classrooms ex: heap\n",
    "\n",
    "rooms = []\n",
    "for s,e in sorted(intervals):\n",
    "    \n",
    "    if len(rooms) == 0:\n",
    "        rooms.append(e)\n",
    "    else:\n",
    "        for i in range(len(rooms)):\n",
    "            if rooms[i] < s:\n",
    "                rooms[i] = e\n",
    "                break\n",
    "        else:\n",
    "            rooms.append(e)\n",
    "        \n",
    "len(rooms)"
   ]
  },
  {
   "cell_type": "markdown",
   "metadata": {},
   "source": [
    "### 22\n",
    "\n",
    "This problem was asked by Microsoft.\n",
    "\n",
    "Given a dictionary of words and a string made up of those words (no spaces), return the original sentence in a list. If there is more than one possible reconstruction, return any of them. If there is no possible reconstruction, then return null.\n",
    "\n",
    "For example, given the set of words 'quick', 'brown', 'the', 'fox', and the string \"thequickbrownfox\", you should return ['the', 'quick', 'brown', 'fox'].\n",
    "\n",
    "Given the set of words 'bed', 'bath', 'bedbath', 'and', 'beyond', and the string \"bedbathandbeyond\", return either ['bed', 'bath', 'and', 'beyond] or ['bedbath', 'and', 'beyond']."
   ]
  },
  {
   "cell_type": "code",
   "execution_count": null,
   "metadata": {},
   "outputs": [],
   "source": [
    "def parse(s):\n",
    "    \n",
    "    def parser(s, words):\n",
    "        if s == \"\":\n",
    "            return True\n",
    "\n",
    "        for w in dic:\n",
    "            if s[:len(w)] == w:\n",
    "                words.append(w)\n",
    "                return parser(s[len(w):], words)\n",
    "        else:\n",
    "            return False\n",
    "        \n",
    "    words = []\n",
    "    if parser(s, words):\n",
    "        return words\n",
    "    else:\n",
    "        return None"
   ]
  },
  {
   "cell_type": "code",
   "execution_count": null,
   "metadata": {},
   "outputs": [],
   "source": [
    "dic = {'bed', 'bath', 'bedbath', 'and', 'beyond'}\n",
    "s = \"bedbathandbeyond\"\n",
    "parse(s)"
   ]
  },
  {
   "cell_type": "code",
   "execution_count": null,
   "metadata": {},
   "outputs": [],
   "source": [
    "dic = {'quick', 'brown', 'the', 'fox'}\n",
    "s = \"thequickbrownfox\"\n",
    "parse(s)"
   ]
  },
  {
   "cell_type": "markdown",
   "metadata": {},
   "source": [
    "### 23\n",
    "\n",
    "This problem was asked by Google.\n",
    "\n",
    "You are given an M by N matrix consisting of booleans that represents a board. Each True boolean represents a wall. Each False boolean represents a tile you can walk on.\n",
    "\n",
    "Given this matrix, a start coordinate, and an end coordinate, return the minimum number of steps required to reach the end coordinate from the start. If there is no possible path, then return null. You can move up, left, down, and right. You cannot move through walls. You cannot wrap around the edges of the board.\n",
    "\n",
    "For example, given the following board:\n",
    "\n",
    "    [[f, f, f, f],\n",
    "    [t, t, f, t],\n",
    "    [f, f, f, f],\n",
    "    [f, f, f, f]]\n",
    "and start = (3, 0) (bottom left) and end = (0, 0) (top left), the minimum number of steps required to reach the end is 7, since we would need to go through (1, 2) because there is a wall everywhere else on the second row."
   ]
  },
  {
   "cell_type": "code",
   "execution_count": null,
   "metadata": {},
   "outputs": [],
   "source": []
  },
  {
   "cell_type": "markdown",
   "metadata": {},
   "source": [
    "### 24\n",
    "\n",
    "This problem was asked by Google.\n",
    "\n",
    "Implement locking in a binary tree. A binary tree node can be locked or unlocked only if all of its descendants or ancestors are not locked.\n",
    "\n",
    "Design a binary tree node class with the following methods:\n",
    "\n",
    "- is_locked, which returns whether the node is locked\n",
    "- lock, which attempts to lock the node. If it cannot be locked, then it should return false. Otherwise, it should lock it and return true.\n",
    "- unlock, which unlocks the node. If it cannot be unlocked, then it should return false. Otherwise, it should unlock it and return true.\n",
    "\n",
    "You may augment the node to add parent pointers or any other property you would like. You may assume the class is used in a single-threaded program, so there is no need for actual locks or mutexes. Each method should run in O(h), where h is the height of the tree."
   ]
  },
  {
   "cell_type": "code",
   "execution_count": null,
   "metadata": {},
   "outputs": [],
   "source": [
    "class Node():\n",
    "    def __init__(self, left=None, right=None):\n",
    "        self.left = left\n",
    "        self.right = right\n",
    "        self.locked = False\n",
    "        self.children_locked = 0\n",
    "        \n",
    "        self.parent = None\n",
    "        if left:  self.left.parent  = self\n",
    "        if right: self.right.parent = self\n",
    "    \n",
    "    def is_locked(self):\n",
    "        return self.locked\n",
    "    \n",
    "    @property\n",
    "    def parent_locked(self):\n",
    "        if self.parent:\n",
    "            parent_lock = self.parent.is_locked()\n",
    "            return parent_lock or self.parent.parent_locked\n",
    "        else:\n",
    "            return False\n",
    "\n",
    "    def modify_count(self, v):\n",
    "        self.children_locked += v\n",
    "        if self.parent: self.parent.modify_count(v)\n",
    "        \n",
    "    def lock(self):\n",
    "        if not self.locked and self.children_locked == 0 and not self.parent_locked:\n",
    "            self.locked = True\n",
    "            if self.parent: self.parent.modify_count(1)\n",
    "            return True       \n",
    "        return False\n",
    "   \n",
    "    def unlock(self):\n",
    "        if self.locked and self.children_locked == 0 and not self.parent_locked:\n",
    "            self.locked = False\n",
    "            if self.parent: self.parent.modify_count(-1)\n",
    "            return True       \n",
    "        return False"
   ]
  },
  {
   "cell_type": "markdown",
   "metadata": {},
   "source": [
    "### 25\n",
    "\n",
    "This problem was asked by Facebook.\n",
    "\n",
    "Implement regular expression matching with the following special characters:\n",
    "\n",
    "- '.' (period) which matches any single character\n",
    "- '*' (asterisk) which matches zero or more of the preceding element\n",
    "\n",
    "That is, implement a function that takes in a string and a valid regular expression and returns whether or not the string matches the regular expression.\n",
    "\n",
    "For example, given the regular expression \"ra.\" and the string \"ray\", your function should return true. The same regular expression on the string \"raymond\" should return false.\n",
    "\n",
    "Given the regular expression \".*at\" and the string \"chat\", your function should return true. The same regular expression on the string \"chats\" should return false."
   ]
  },
  {
   "cell_type": "code",
   "execution_count": null,
   "metadata": {},
   "outputs": [],
   "source": [
    "s = \"chat\"\n",
    "r = \".*at\"\n",
    "\n",
    "def match(s,r):\n",
    "    if len(r) == 0:\n",
    "        return len(s) == 0\n",
    "    \n",
    "    elif len(r) == 1:\n",
    "        if len(s) > 0 and r[0] == s[0] or r[0] == \".\":\n",
    "            return match(s[1:], r[1:])\n",
    "        else:\n",
    "            return False\n",
    "    else:\n",
    "        if r[1] == \"*\":            \n",
    "            if match(s, r[2:]): # 0 times\n",
    "                return True\n",
    "            else: # 1 or more\n",
    "                for i in range(len(s)):\n",
    "                    if (r[0] == s[i] or r[0] == \".\") and match(s[i+1:], r[2:]):\n",
    "                        return True\n",
    "                return False\n",
    "            \n",
    "        else:\n",
    "            if len(s) > 0 and r[0] == s[0] or r[0] == \".\":\n",
    "                return match(s[1:], r[1:])\n",
    "            else:\n",
    "                return False\n",
    "                \n",
    "        \n",
    "assert match(\"ray\", \"ra.\")\n",
    "assert not match(\"raymond\", \"ra.\")\n",
    "assert match(\"chat\", \".*at\") \n",
    "assert not match(\"chats\", \".*at\")"
   ]
  },
  {
   "cell_type": "markdown",
   "metadata": {},
   "source": [
    "### 26\n",
    "\n",
    "This problem was asked by Google.\n",
    "\n",
    "Given a singly linked list and an integer k, remove the kth last element from the list. k is guaranteed to be smaller than the length of the list.\n",
    "\n",
    "The list is very long, so making more than one pass is prohibitively expensive.\n",
    "\n",
    "Do this in constant space and in one pass."
   ]
  },
  {
   "cell_type": "code",
   "execution_count": null,
   "metadata": {},
   "outputs": [],
   "source": [
    "class Node:\n",
    "    def __init__(self, val, nxt=None):\n",
    "        self.val = val\n",
    "        self.nxt = nxt\n",
    "        \n",
    "def pr(node):\n",
    "    if not node:\n",
    "        print()\n",
    "        return\n",
    "    print(node.val, end=\" \")\n",
    "    pr(node.nxt)"
   ]
  },
  {
   "cell_type": "code",
   "execution_count": null,
   "metadata": {},
   "outputs": [],
   "source": [
    "root = Node(1, Node(2, Node(3, Node(4, Node(5, Node(6, Node(7, Node(8))))))))\n",
    "pr(root)\n",
    "\n",
    "def remove(node, k):\n",
    "    # Doesnt work if k == len(list)\n",
    "    previous = node\n",
    "    k_back = node\n",
    "    end = node\n",
    "    \n",
    "    for _ in range(k):\n",
    "        end = end.nxt\n",
    "        \n",
    "    while end.nxt != None:\n",
    "        previous = k_back\n",
    "        k_back = k_back.nxt\n",
    "        end = end.nxt\n",
    "    \n",
    "    previous.nxt = k_back.nxt\n",
    "    \n",
    "remove(root, 6)\n",
    "pr(root)"
   ]
  },
  {
   "cell_type": "markdown",
   "metadata": {},
   "source": [
    "### 27\n",
    "\n",
    "This problem was asked by Facebook.\n",
    "\n",
    "Given a string of round, curly, and square open and closing brackets, return whether the brackets are balanced (well-formed).\n",
    "\n",
    "For example, given the string \"([])[]({})\", you should return true.\n",
    "\n",
    "Given the string \"([)]\" or \"((()\", you should return false."
   ]
  },
  {
   "cell_type": "code",
   "execution_count": null,
   "metadata": {},
   "outputs": [],
   "source": []
  },
  {
   "cell_type": "markdown",
   "metadata": {},
   "source": [
    "### 28\n",
    "\n",
    "This problem was asked by Palantir.\n",
    "\n",
    "Write an algorithm to justify text. Given a sequence of words and an integer line length k, return a list of strings which represents each line, fully justified.\n",
    "\n",
    "More specifically, you should have as many words as possible in each line. There should be at least one space between each word. Pad extra spaces when necessary so that each line has exactly length k. Spaces should be distributed as equally as possible, with the extra spaces, if any, distributed starting from the left.\n",
    "\n",
    "If you can only fit one word on a line, then you should pad the right-hand side with spaces.\n",
    "\n",
    "Each word is guaranteed not to be longer than k.\n",
    "\n",
    "For example, given the list of words [\"the\", \"quick\", \"brown\", \"fox\", \"jumps\", \"over\", \"the\", \"lazy\", \"dog\"] and k = 16, you should return the following:\n",
    "\n",
    "[\"the  quick brown\", # 1 extra space on the left\n",
    "\"fox  jumps  over\", # 2 extra spaces distributed evenly\n",
    "\"the   lazy   dog\"] # 4 extra spaces distributed evenly"
   ]
  },
  {
   "cell_type": "code",
   "execution_count": null,
   "metadata": {},
   "outputs": [],
   "source": []
  },
  {
   "cell_type": "markdown",
   "metadata": {},
   "source": [
    "### 29\n",
    "\n",
    "This problem was asked by Amazon.\n",
    "\n",
    "Run-length encoding is a fast and simple method of encoding strings. The basic idea is to represent repeated successive characters as a single count and character. For example, the string \"AAAABBBCCDAA\" would be encoded as \"4A3B2C1D2A\".\n",
    "\n",
    "Implement run-length encoding and decoding. You can assume the string to be encoded have no digits and consists solely of alphabetic characters. You can assume the string to be decoded is valid."
   ]
  },
  {
   "cell_type": "code",
   "execution_count": null,
   "metadata": {},
   "outputs": [],
   "source": []
  },
  {
   "cell_type": "markdown",
   "metadata": {},
   "source": [
    "### 30\n",
    "\n",
    "This problem was asked by Facebook.\n",
    "\n",
    "You are given an array of non-negative integers that represents a two-dimensional elevation map where each element is unit-width wall and the integer is the height. Suppose it will rain and all spots between two walls get filled up.\n",
    "\n",
    "Compute how many units of water remain trapped on the map in O(N) time and O(1) space.\n",
    "\n",
    "For example, given the input [2, 1, 2], we can hold 1 unit of water in the middle.\n",
    "\n",
    "Given the input [3, 0, 1, 3, 0, 5], we can hold 3 units in the first index, 2 in the second, and 3 in the fourth index (we cannot hold 5 since it would run off to the left), so we can trap 8 units of water."
   ]
  },
  {
   "cell_type": "code",
   "execution_count": null,
   "metadata": {},
   "outputs": [],
   "source": []
  },
  {
   "cell_type": "markdown",
   "metadata": {},
   "source": [
    "### 31\n",
    "\n",
    "This problem was asked by Google.\n",
    "\n",
    "The edit distance between two strings refers to the minimum number of character insertions, deletions, and substitutions required to change one string to the other. For example, the edit distance between “kitten” and “sitting” is three: substitute the “k” for “s”, substitute the “e” for “i”, and append a “g”.\n",
    "\n",
    "Given two strings, compute the edit distance between them."
   ]
  },
  {
   "cell_type": "code",
   "execution_count": null,
   "metadata": {},
   "outputs": [],
   "source": []
  },
  {
   "cell_type": "markdown",
   "metadata": {},
   "source": [
    "### 32\n",
    "\n",
    "Good morning. Here's your coding interview problem for today.\n",
    "\n",
    "This problem was asked by Jane Street.\n",
    "\n",
    "Suppose you are given a table of currency exchange rates, represented as a 2D array. Determine whether there is a possible arbitrage: that is, whether there is some sequence of trades you can make, starting with some amount A of any currency, so that you can end up with some amount greater than A of that currency.\n",
    "\n",
    "There are no transaction costs and you can trade fractional quantities."
   ]
  },
  {
   "cell_type": "code",
   "execution_count": null,
   "metadata": {},
   "outputs": [],
   "source": []
  },
  {
   "cell_type": "markdown",
   "metadata": {},
   "source": [
    "### 33\n",
    "\n",
    "This problem was asked by Microsoft.\n",
    "\n",
    "Compute the running median of a sequence of numbers. That is, given a stream of numbers, print out the median of the list so far on each new element.\n",
    "\n",
    "Recall that the median of an even-numbered list is the average of the two middle numbers.\n",
    "\n",
    "For example, given the sequence [2, 1, 5, 7, 2, 0, 5], your algorithm should print out:\n",
    "\n",
    "- 2\n",
    "- 1.5\n",
    "- 2\n",
    "- 3.5\n",
    "- 2\n",
    "- 2\n",
    "- 2"
   ]
  },
  {
   "cell_type": "code",
   "execution_count": null,
   "metadata": {},
   "outputs": [],
   "source": []
  },
  {
   "cell_type": "markdown",
   "metadata": {},
   "source": [
    "### 34\n",
    "\n",
    "This problem was asked by Quora.\n",
    "\n",
    "Given a string, find the palindrome that can be made by inserting the fewest number of characters as possible anywhere in the word. If there is more than one palindrome of minimum length that can be made, return the lexicographically earliest one (the first one alphabetically).\n",
    "\n",
    "For example, given the string \"race\", you should return \"ecarace\", since we can add three letters to it (which is the smallest amount to make a palindrome). There are seven other palindromes that can be made from \"race\" by adding three letters, but \"ecarace\" comes first alphabetically.\n",
    "\n",
    "As another example, given the string \"google\", you should return \"elgoogle\"."
   ]
  },
  {
   "cell_type": "code",
   "execution_count": null,
   "metadata": {},
   "outputs": [],
   "source": []
  },
  {
   "cell_type": "markdown",
   "metadata": {},
   "source": [
    "### 35\n",
    "\n",
    "This problem was asked by Google.\n",
    "\n",
    "Given an array of strictly the characters 'R', 'G', and 'B', segregate the values of the array so that all the Rs come first, the Gs come second, and the Bs come last. You can only swap elements of the array.\n",
    "\n",
    "Do this in linear time and in-place.\n",
    "\n",
    "For example, given the array ['G', 'B', 'R', 'R', 'B', 'R', 'G'], it should become ['R', 'R', 'R', 'G', 'G', 'B', 'B']."
   ]
  },
  {
   "cell_type": "code",
   "execution_count": null,
   "metadata": {},
   "outputs": [],
   "source": []
  },
  {
   "cell_type": "markdown",
   "metadata": {},
   "source": [
    "### 36\n",
    "\n",
    "This problem was asked by Dropbox.\n",
    "\n",
    "Given the root to a binary search tree, find the second largest node in the tree.\n",
    "\n"
   ]
  },
  {
   "cell_type": "code",
   "execution_count": null,
   "metadata": {},
   "outputs": [],
   "source": []
  },
  {
   "cell_type": "markdown",
   "metadata": {},
   "source": [
    "### 37\n",
    "\n",
    "This problem was asked by Google.\n",
    "\n",
    "The power set of a set is the set of all its subsets. Write a function that, given a set, generates its power set.\n",
    "\n",
    "For example, given the set {1, 2, 3}, it should return {{}, {1}, {2}, {3}, {1, 2}, {1, 3}, {2, 3}, {1, 2, 3}}.\n",
    "\n",
    "You may also use a list or array to represent a set."
   ]
  },
  {
   "cell_type": "code",
   "execution_count": null,
   "metadata": {},
   "outputs": [],
   "source": []
  },
  {
   "cell_type": "markdown",
   "metadata": {},
   "source": [
    "### 38\n",
    "\n",
    "This problem was asked by Microsoft.\n",
    "\n",
    "You have an N by N board. Write a function that, given N, returns the number of possible arrangements of the board where N queens can be placed on the board without threatening each other, i.e. no two queens share the same row, column, or diagonal."
   ]
  },
  {
   "cell_type": "code",
   "execution_count": null,
   "metadata": {},
   "outputs": [],
   "source": []
  },
  {
   "cell_type": "markdown",
   "metadata": {},
   "source": [
    "### 39\n",
    "\n",
    "This problem was asked by Dropbox.\n",
    "\n",
    "Conway's Game of Life takes place on an infinite two-dimensional board of square cells. Each cell is either dead or alive, and at each tick, the following rules apply:\n",
    "\n",
    "Any live cell with less than two live neighbours dies.\n",
    "Any live cell with two or three live neighbours remains living.\n",
    "Any live cell with more than three live neighbours dies.\n",
    "Any dead cell with exactly three live neighbours becomes a live cell.\n",
    "A cell neighbours another cell if it is horizontally, vertically, or diagonally adjacent.\n",
    "\n",
    "Implement Conway's Game of Life. It should be able to be initialized with a starting list of live cell coordinates and the number of steps it should run for. Once initialized, it should print out the board state at each step. Since it's an infinite board, print out only the relevant coordinates, i.e. from the top-leftmost live cell to bottom-rightmost live cell.\n",
    "\n",
    "You can represent a live cell with an asterisk (*) and a dead cell with a dot (.).\n",
    "\n"
   ]
  },
  {
   "cell_type": "code",
   "execution_count": null,
   "metadata": {},
   "outputs": [],
   "source": []
  },
  {
   "cell_type": "markdown",
   "metadata": {},
   "source": [
    "### 40\n",
    "\n",
    "This problem was asked by Google.\n",
    "\n",
    "Given an array of integers where every integer occurs three times except for one integer, which only occurs once, find and return the non-duplicated integer.\n",
    "\n",
    "For example, given [6, 1, 3, 3, 3, 6, 6], return 1. Given [13, 19, 13, 13], return 19.\n",
    "\n",
    "Do this in O(N) time and O(1) space."
   ]
  },
  {
   "cell_type": "code",
   "execution_count": null,
   "metadata": {},
   "outputs": [],
   "source": []
  }
 ],
 "metadata": {
  "kernelspec": {
   "display_name": "Python 3",
   "language": "python",
   "name": "python3"
  },
  "language_info": {
   "codemirror_mode": {
    "name": "ipython",
    "version": 3
   },
   "file_extension": ".py",
   "mimetype": "text/x-python",
   "name": "python",
   "nbconvert_exporter": "python",
   "pygments_lexer": "ipython3",
   "version": "3.6.4"
  }
 },
 "nbformat": 4,
 "nbformat_minor": 2
}
