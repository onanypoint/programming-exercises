{
 "cells": [
  {
   "cell_type": "code",
   "execution_count": null,
   "metadata": {},
   "outputs": [],
   "source": [
    "import time \n",
    "import operator\n",
    "import subprocess\n",
    "import itertools\n",
    "import threading\n",
    "import numpy as np\n",
    "import random\n",
    "import math"
   ]
  },
  {
   "cell_type": "markdown",
   "metadata": {},
   "source": [
    "### 1\n",
    "\n",
    "Given an array of numbers, return whether any two sums to K.\n",
    "\n",
    "For example, given [10, 15, 3, 7] and K of 17, return true since 10 + 7 is 17."
   ]
  },
  {
   "cell_type": "code",
   "execution_count": null,
   "metadata": {},
   "outputs": [],
   "source": [
    "# brute force solution O(n2)\n",
    "\n",
    "def sum_to_k(l, k):\n",
    "    for i, n1 in enumerate(l):\n",
    "        for n2 in l[:i] + l[i:]:\n",
    "            if n1 + n2 == k:\n",
    "                return True\n",
    "            \n",
    "    return False"
   ]
  },
  {
   "cell_type": "code",
   "execution_count": null,
   "metadata": {},
   "outputs": [],
   "source": [
    "# O(nlog(n))\n",
    "\n",
    "def sum_to_k(l, k):\n",
    "    l = sorted(l)\n",
    "    i = 0\n",
    "    r = len(l)-1\n",
    "    \n",
    "    while i < r:\n",
    "        if l[i] + l[r] == k:\n",
    "            return True\n",
    "        elif l[i] + l[r] < k:\n",
    "            i += 1\n",
    "        else:\n",
    "            r -= 1\n",
    "            \n",
    "    return False           "
   ]
  },
  {
   "cell_type": "code",
   "execution_count": null,
   "metadata": {},
   "outputs": [],
   "source": [
    "# O(n)\n",
    "\n",
    "def sum_to_k(l, k):\n",
    "    s = set()\n",
    "    for n in l:\n",
    "        if k-n > 0 and k-n in s :\n",
    "            return True\n",
    "        s.add(n)\n",
    "        \n",
    "    return False"
   ]
  },
  {
   "cell_type": "code",
   "execution_count": null,
   "metadata": {},
   "outputs": [],
   "source": [
    "sum_to_k([10, 15, 3, 7],17)"
   ]
  },
  {
   "cell_type": "markdown",
   "metadata": {},
   "source": [
    "### 2\n",
    "\n",
    "This problem was asked by Uber.\n",
    "\n",
    "Given an array of integers, return a new array such that each element at index i of the new array is the product of all the numbers in the original array except the one at i.\n",
    "\n",
    "For example, if our input was [1, 2, 3, 4, 5], the expected output would be [120, 60, 40, 30, 24]. If our input was [3, 2, 1], the expected output would be [2, 3, 6].\n",
    "\n",
    "Follow-up: what if you can't use division?"
   ]
  },
  {
   "cell_type": "code",
   "execution_count": null,
   "metadata": {},
   "outputs": [],
   "source": [
    "# With division O(n)\n",
    "# Won't work with 0 inside\n",
    "\n",
    "def func(l):\n",
    "    total = 1\n",
    "    for n in l:\n",
    "        total *= n\n",
    "    \n",
    "    return [total/n for n in l]"
   ]
  },
  {
   "cell_type": "code",
   "execution_count": null,
   "metadata": {},
   "outputs": [],
   "source": [
    "# Without division O(n)\n",
    "\n",
    "def func(l):\n",
    "    tmp = [1 for _ in range(len(l))]\n",
    "    \n",
    "    # Calculate product before index\n",
    "    product_before = 1\n",
    "    for i, n in enumerate(l):\n",
    "        tmp[i] = product_before\n",
    "        product_before *= n\n",
    "    \n",
    "    # Calculate product after index\n",
    "    product_after = 1\n",
    "    for i, n in enumerate(l[::-1]):\n",
    "        tmp[len(l) - i-1] *= product_after\n",
    "        product_after *= n\n",
    "    \n",
    "    return tmp"
   ]
  },
  {
   "cell_type": "code",
   "execution_count": null,
   "metadata": {},
   "outputs": [],
   "source": [
    "func([1, 2, 3, 4, 5])"
   ]
  },
  {
   "cell_type": "markdown",
   "metadata": {},
   "source": [
    "### 3\n",
    "This problem was asked by Google.\n",
    "\n",
    "Given the root to a binary tree, implement serialize(root), which serializes the tree into a string, and deserialize(s), which deserializes the string back into the tree."
   ]
  },
  {
   "cell_type": "code",
   "execution_count": null,
   "metadata": {},
   "outputs": [],
   "source": [
    "class Tree:\n",
    "    def __init__(self, value, left=None, right=None):\n",
    "        self.value = value\n",
    "        self.left = left\n",
    "        self.right = right\n",
    "        \n",
    "\n",
    "def serialize(root):\n",
    "    if root is None:\n",
    "        return \"-\"\n",
    "\n",
    "    return \"{},{},{}\".format(\n",
    "        root.value,\n",
    "        serialize(root.left),\n",
    "        serialize(root.right),\n",
    "    )\n",
    "\n",
    "def deserialize(s):\n",
    "    values = s.split(\",\")\n",
    "\n",
    "    def decoder():\n",
    "        val = values.pop(0)\n",
    "        if val == \"-\":\n",
    "            return None\n",
    "        else:\n",
    "            return Tree(val, decoder(), decoder())\n",
    "\n",
    "    return decoder()"
   ]
  },
  {
   "cell_type": "code",
   "execution_count": null,
   "metadata": {},
   "outputs": [],
   "source": [
    "root = Tree(\"A\", Tree(\"B\", Tree(\"D\")), Tree(\"C\")) \n",
    "serialize(root) == serialize(deserialize(serialize(root)))"
   ]
  },
  {
   "cell_type": "markdown",
   "metadata": {},
   "source": [
    "### 4\n",
    "\n",
    "This problem was asked by Stripe.\n",
    "\n",
    "Given an array of integers, find the first missing positive integer in linear time and constant space. In other words, find the lowest positive integer that does not exist in the array. The array can contain duplicates and negative numbers as well.\n",
    "\n",
    "For example, the input [3, 4, -1, 1] should give 2. The input [1, 2, 0] should give 3."
   ]
  },
  {
   "cell_type": "code",
   "execution_count": null,
   "metadata": {},
   "outputs": [],
   "source": [
    "# Not linear in time\n",
    "# Not constant in space\n",
    "\n",
    "def func(l):\n",
    "    \n",
    "    minimum = l[0]\n",
    "    maximum = l[0]\n",
    "    numbers = set()\n",
    "    \n",
    "    for n in l:\n",
    "        if n < minimum: minimum = n\n",
    "        if n > maximum: maximum = n\n",
    "        numbers.add(n)\n",
    "        \n",
    "    for i in range(1, maximum):\n",
    "        if i not in numbers:\n",
    "            return i\n",
    "        \n",
    "    return \"OKAY\""
   ]
  },
  {
   "cell_type": "code",
   "execution_count": null,
   "metadata": {},
   "outputs": [],
   "source": [
    "def func(l):\n",
    "    i = 0\n",
    "    \n",
    "    while i < len(l):\n",
    "        val = l[i]\n",
    "        if val > 0 and val < len(l) and val != l[val-1] and val != i+1:\n",
    "            l[i] = l[val-1]\n",
    "            l[val-1] = val \n",
    "        else:\n",
    "            i += 1\n",
    "            \n",
    "    for i,n in enumerate(l):\n",
    "        if i + 1 != n:\n",
    "            return i+1\n",
    "     \n",
    "    return len(l) + 1\n",
    "        \n",
    "    "
   ]
  },
  {
   "cell_type": "code",
   "execution_count": null,
   "metadata": {},
   "outputs": [],
   "source": [
    "func([1,2, 3, 4, 0])"
   ]
  },
  {
   "cell_type": "markdown",
   "metadata": {},
   "source": [
    "### 5\n",
    "\n",
    "This problem was asked by Jane Street.\n",
    "\n",
    "cons(a, b) constructs a pair, and car(pair) and cdr(pair) returns the first and last element of that pair. For example, car(cons(3, 4)) returns 3, and cdr(cons(3, 4)) returns 4.\n",
    "\n",
    "Given this implementation of cons:\n",
    "\n",
    "    def cons(a, b):\n",
    "        return lambda f : f(a, b)\n",
    "        \n",
    "Implement car and cdr."
   ]
  },
  {
   "cell_type": "code",
   "execution_count": null,
   "metadata": {},
   "outputs": [],
   "source": [
    "def cons(a, b):\n",
    "    return lambda f : f(a, b)\n",
    "\n",
    "def car(cons):\n",
    "    \n",
    "    def func(a,b):\n",
    "        return a\n",
    "    \n",
    "    return cons(func)\n",
    "    \n",
    "    \n",
    "def cdr(cons):\n",
    "    def func(a,b):\n",
    "        return b\n",
    "    \n",
    "    return cons(func)\n",
    "    "
   ]
  },
  {
   "cell_type": "code",
   "execution_count": null,
   "metadata": {},
   "outputs": [],
   "source": [
    "car(cons(3, 4))"
   ]
  },
  {
   "cell_type": "code",
   "execution_count": null,
   "metadata": {},
   "outputs": [],
   "source": [
    "cdr(cons(3, 4))"
   ]
  },
  {
   "cell_type": "markdown",
   "metadata": {},
   "source": [
    "### 6\n",
    "\n",
    "This problem was asked by Google.\n",
    "\n",
    "An XOR linked list is a more memory efficient doubly linked list. Instead of each node holding next and prev fields, it holds a field named both, which is an XOR of the next node and the previous node. Implement an XOR linked list; it has an add(element) which adds the element to the end, and a get(index) which returns the node at index.\n",
    "\n",
    "If using a language that has no pointers (such as Python), you can assume you have access to get_pointer and dereference_pointer functions that converts between nodes and memory addresses."
   ]
  },
  {
   "cell_type": "code",
   "execution_count": null,
   "metadata": {},
   "outputs": [],
   "source": []
  },
  {
   "cell_type": "markdown",
   "metadata": {},
   "source": [
    "### 7 \n",
    "This problem was asked by Facebook.\n",
    "\n",
    "Given the mapping a = 1, b = 2, ... z = 26, and an encoded message, count the number of ways it can be decoded.\n",
    "\n",
    "For example, the message '111' would give 3, since it could be decoded as 'aaa, 'ka', and 'ak'.\n",
    "\n",
    "You can assume that the messages are decodable. For example, '001' is not allowed."
   ]
  },
  {
   "cell_type": "code",
   "execution_count": null,
   "metadata": {},
   "outputs": [],
   "source": [
    "s = \"475756254584461749455577458134121151129681678658678775525774117859933718648672324752832461211715694847575625458446174945557745813412115112968167865867877552577411785993371864867232475283246121171569484757562545844617494555774581341211511296816786586787755257741178599337186486723247528324612117156948475756254584461749455577458134121151129681678658678775525774117859933718648672324752832461211715694847575625458446174945557745813412115112968167865867877552577411785993371864867232475283246121171569484757562545844617494555774581341211511296816786586787755257741178599337186486723247528324612117156948\""
   ]
  },
  {
   "cell_type": "code",
   "execution_count": null,
   "metadata": {},
   "outputs": [],
   "source": [
    "# Recursive solution\n",
    "def decode(s):\n",
    "    if len(s) == 0:\n",
    "        return 1\n",
    "    \n",
    "    c = decode(s[1:])\n",
    "    if len(s) >= 2 and 1 <= int(s[:2]) <= 26:\n",
    "        c += decode(s[2:])\n",
    "        \n",
    "    return c"
   ]
  },
  {
   "cell_type": "code",
   "execution_count": null,
   "metadata": {},
   "outputs": [],
   "source": [
    "# DP solution\n",
    "def decode(s):\n",
    "    if len(s) == 0:\n",
    "        return 0\n",
    "    \n",
    "    p0, p1 = 0,1\n",
    "    for i in range(len(s)):\n",
    "        cur = p1\n",
    "        if i > 0 and 1 <= int(s[i-1:i+1]) <= 26:\n",
    "            cur += p0\n",
    "            \n",
    "        p0, p1 = p1, cur\n",
    "        \n",
    "    return p1    "
   ]
  },
  {
   "cell_type": "code",
   "execution_count": null,
   "metadata": {},
   "outputs": [],
   "source": [
    "decode(s)"
   ]
  },
  {
   "cell_type": "markdown",
   "metadata": {},
   "source": [
    "### 8 \n",
    "This problem was asked by Google.\n",
    "\n",
    "A unival tree (which stands for \"universal value\") is a tree where all nodes under it have the same value.\n",
    "\n",
    "Given the root to a binary tree, count the number of unival subtrees.\n",
    "\n",
    "For example, the following tree has 5 unival subtrees:\n",
    "\n",
    "       0\n",
    "      / \\\n",
    "     1   0\n",
    "        / \\\n",
    "       1   0\n",
    "      / \\\n",
    "     1   1\n"
   ]
  },
  {
   "cell_type": "code",
   "execution_count": null,
   "metadata": {},
   "outputs": [],
   "source": [
    "class Tree:\n",
    "    def __init__(self, value, left=None, right=None):\n",
    "        self.value = value\n",
    "        self.left = left\n",
    "        self.right = right\n",
    "        \n",
    "root = Tree(0, Tree(1), Tree(0, Tree(1, Tree(1), Tree(1)), Tree(0)))"
   ]
  },
  {
   "cell_type": "code",
   "execution_count": null,
   "metadata": {},
   "outputs": [],
   "source": [
    "def count_unival(root):\n",
    "\n",
    "    def is_unival(root, sol):\n",
    "\n",
    "        if root.left is None and root.right is None:\n",
    "            sol.append(1)\n",
    "            return True\n",
    "\n",
    "        elif not root.left and root.right:\n",
    "            if is_unival(root.right, sol) and root.right.value == root.value:\n",
    "                sol.append(1)\n",
    "                return True\n",
    "\n",
    "        elif root.left and not root.right:\n",
    "            if is_unival(root.left, sol) and root.left.value == root.value:\n",
    "                sol.append(1)\n",
    "                return True\n",
    "\n",
    "        elif root.left and root.right:\n",
    "            l = is_unival(root.left, sol)\n",
    "            r = is_unival(root.right, sol)\n",
    "\n",
    "            if (l and root.left.value == root.value and \n",
    "                r and root.right.value == root.value):  \n",
    "                sol.append(1)\n",
    "                return True\n",
    "        \n",
    "        return False\n",
    "\n",
    "    sol = []\n",
    "    is_unival(root, sol)\n",
    "    return sum(sol)"
   ]
  },
  {
   "cell_type": "code",
   "execution_count": null,
   "metadata": {},
   "outputs": [],
   "source": [
    "count_unival(root)"
   ]
  },
  {
   "cell_type": "markdown",
   "metadata": {},
   "source": [
    "### 9\n",
    "\n",
    "This problem was asked by Airbnb.\n",
    "\n",
    "Given a list of integers, write a function that returns the largest sum of non-adjacent numbers. Numbers can be 0 or negative.\n",
    "\n",
    "For example, [2, 4, 6, 8] should return 12, since we pick 4 and 8. [5, 1, 1, 5] should return 10, since we pick 5 and 5."
   ]
  },
  {
   "cell_type": "code",
   "execution_count": null,
   "metadata": {},
   "outputs": [],
   "source": [
    "a = [2,4,6,8]"
   ]
  },
  {
   "cell_type": "code",
   "execution_count": null,
   "metadata": {},
   "outputs": [],
   "source": [
    "def find_max(arr, i):\n",
    "    if i == 0:\n",
    "        return arr[0]\n",
    "    elif i == 1:\n",
    "        return max(arr[0], arr[1])\n",
    "    else:\n",
    "        return max(find_max(arr, i-2) + arr[i], find_max(arr, i-1))\n",
    "\n",
    "find_max(a, 3)"
   ]
  },
  {
   "cell_type": "code",
   "execution_count": null,
   "metadata": {},
   "outputs": [],
   "source": [
    "def find_max(arr):\n",
    "    i1 = max(arr[0], arr[1])\n",
    "    i2 = arr[0]\n",
    "    \n",
    "    for a in arr[2:]:\n",
    "        tmp = i1\n",
    "        i1 = max(i2 + a, i1)\n",
    "        i2 = tmp\n",
    "    \n",
    "    return i1\n",
    "\n",
    "find_max(a)"
   ]
  },
  {
   "cell_type": "markdown",
   "metadata": {},
   "source": [
    "### 10 \n",
    "\n",
    "This problem was asked by Apple.\n",
    "\n",
    "Implement a job scheduler which takes in a function f and an integer n, and calls f after n milliseconds."
   ]
  },
  {
   "cell_type": "code",
   "execution_count": null,
   "metadata": {},
   "outputs": [],
   "source": [
    "def func():\n",
    "    print(\"Hello\")\n",
    "    \n",
    "def schedule(fn, n):\n",
    "    time.sleep(n / 1000)\n",
    "    fn()"
   ]
  },
  {
   "cell_type": "markdown",
   "metadata": {},
   "source": [
    "### 11\n",
    "\n",
    "This problem was asked by Twitter.\n",
    "\n",
    "Implement an autocomplete system. That is, given a query string s and a set of all possible query strings, return all strings in the set that have s as a prefix.\n",
    "\n",
    "For example, given the query string de and the set of strings [dog, deer, deal], return [deer, deal].\n",
    "\n",
    "Hint: Try preprocessing the dictionary into a more efficient data structure to speed up queries."
   ]
  },
  {
   "cell_type": "code",
   "execution_count": null,
   "metadata": {},
   "outputs": [],
   "source": []
  },
  {
   "cell_type": "markdown",
   "metadata": {},
   "source": [
    "### 12\n",
    "\n",
    "This problem was asked by Amazon.\n",
    "\n",
    "There exists a staircase with N steps, and you can climb up either 1 or 2 steps at a time. Given N, write a function that returns the number of unique ways you can climb the staircase. The order of the steps matters.\n",
    "\n",
    "For example, if N is 4, then there are 5 unique ways:\n",
    "\n",
    "    1, 1, 1, 1\n",
    "    2, 1, 1\n",
    "    1, 2, 1\n",
    "    1, 1, 2\n",
    "    2, 2\n",
    "\n",
    "What if, instead of being able to climb 1 or 2 steps at a time, you could climb any number from a set of positive integers X? For example, if X = {1, 3, 5}, you could climb 1, 3, or 5 steps at a time.\n",
    "\n"
   ]
  },
  {
   "cell_type": "code",
   "execution_count": null,
   "metadata": {},
   "outputs": [],
   "source": [
    "def count(N, values=[1,2], sol=[]):\n",
    "    if N == 0:\n",
    "        sol.append(1)\n",
    "        \n",
    "    else:\n",
    "        for i in values:\n",
    "            if N-i >=0:\n",
    "                count(N-i, values, sol)\n",
    "            \n",
    "sol = []\n",
    "count(4, [1, 2], sol)\n",
    "sum(sol)"
   ]
  },
  {
   "cell_type": "code",
   "execution_count": null,
   "metadata": {},
   "outputs": [],
   "source": [
    "def count(n, values=[1,2]):\n",
    "    mem = [1] + [0 for _ in range(n)]\n",
    "    for i in range(n+1):\n",
    "        mem[i] += sum(mem[i-v] for v in values if i - v > 0)\n",
    "        mem[i] += 1 if i in values else 0\n",
    "    return mem[-1]\n",
    "\n",
    "count(4, [1, 2])"
   ]
  },
  {
   "cell_type": "markdown",
   "metadata": {},
   "source": [
    "### 13 \n",
    "\n",
    "This problem was asked by Amazon.\n",
    "\n",
    "Given an integer k and a string s, find the length of the longest substring that contains at most k distinct characters.\n",
    "\n",
    "For example, given s = \"abcba\" and k = 2, the longest substring with k distinct characters is \"bcb\"."
   ]
  },
  {
   "cell_type": "code",
   "execution_count": null,
   "metadata": {},
   "outputs": [],
   "source": []
  },
  {
   "cell_type": "markdown",
   "metadata": {},
   "source": [
    "### 14\n",
    "\n",
    "The area of a circle is defined as πr^2. Estimate π to 3 decimal places using a Monte Carlo method.\n",
    "\n",
    "Hint: The basic equation of a circle is x2 + y2 = r2."
   ]
  },
  {
   "cell_type": "code",
   "execution_count": null,
   "metadata": {},
   "outputs": [],
   "source": [
    "def check_accuracy(a):\n",
    "    a1, *a = [4*v/max_iter for v in a]\n",
    "    return all([abs(a1-v) < 0.001 for v in a])\n",
    "\n",
    "precision = 3\n",
    "max_iter = 1000000\n",
    "a = [0,0,0,0,0,0,0]\n",
    "\n",
    "for j in range(max_iter):\n",
    "    for i in range(len(a)):\n",
    "        x = random.random()\n",
    "        y = random.random() \n",
    "        \n",
    "        r = math.sqrt(math.pow(x,2) + math.pow(y,2))\n",
    "        \n",
    "        if r < 1:\n",
    "            a[i] += 1\n",
    "         \n",
    "    if j > 100000 and check_accuracy(a):\n",
    "        break\n",
    "\n",
    "np.mean([4*v/max_iter for v in a])"
   ]
  },
  {
   "cell_type": "markdown",
   "metadata": {},
   "source": [
    "### 15\n",
    "\n",
    "This problem was asked by Facebook.\n",
    "\n",
    "Given a stream of elements too large to store in memory, pick a random element from the stream with uniform probability.\n",
    "\n"
   ]
  },
  {
   "cell_type": "code",
   "execution_count": null,
   "metadata": {},
   "outputs": [],
   "source": [
    "def pick(stream):\n",
    "    rnd = None\n",
    "    \n",
    "    for i, e in enumerate(stream):\n",
    "        if rnd == None or random.random() <= 1/i:\n",
    "            rnd = e\n",
    "            \n",
    "    return rnd"
   ]
  },
  {
   "cell_type": "markdown",
   "metadata": {},
   "source": [
    "### 16 \n",
    "\n",
    "This problem was asked by Twitter.\n",
    "\n",
    "You run an e-commerce website and want to record the last N order ids in a log. Implement a data structure to accomplish this, with the following API:\n",
    "\n",
    "* record(order_id): adds the order_id to the log\n",
    "* get_last(i): gets the ith last element from the log. i is guaranteed to be smaller than or equal to N.\n",
    "\n",
    "You should be as efficient with time and space as possible."
   ]
  },
  {
   "cell_type": "code",
   "execution_count": null,
   "metadata": {},
   "outputs": [],
   "source": []
  },
  {
   "cell_type": "markdown",
   "metadata": {},
   "source": [
    "### 17 \n",
    "\n",
    "This problem was asked by Google.\n",
    "\n",
    "Suppose we represent our file system by a string in the following manner:\n",
    "\n",
    "The string \"dir\\n\\tsubdir1\\n\\tsubdir2\\n\\t\\tfile.ext\" represents:\n",
    "\n",
    "    dir\n",
    "        subdir1\n",
    "        subdir2\n",
    "            file.ext\n",
    "            \n",
    "The directory dir contains an empty sub-directory subdir1 and a sub-directory subdir2 containing a file file.ext.\n",
    "\n",
    "The string \"dir\\n\\tsubdir1\\n\\t\\tfile1.ext\\n\\t\\tsubsubdir1\\n\\tsubdir2\\n\\t\\tsubsubdir2\\n\\t\\t\\tfile2.ext\" represents:\n",
    "\n",
    "    dir\n",
    "        subdir1\n",
    "            file1.ext\n",
    "            subsubdir1\n",
    "        subdir2\n",
    "            subsubdir2\n",
    "                file2.ext\n",
    "                \n",
    "The directory dir contains two sub-directories subdir1 and subdir2. subdir1 contains a file file1.ext and an empty second-level sub-directory subsubdir1. subdir2 contains a second-level sub-directory subsubdir2 containing a file file2.ext.\n",
    "\n",
    "We are interested in finding the longest (number of characters) absolute path to a file within our file system. For example, in the second example above, the longest absolute path is \"dir/subdir2/subsubdir2/file2.ext\", and its length is 32 (not including the double quotes).\n",
    "\n",
    "Given a string representing the file system in the above format, return the length of the longest absolute path to a file in the abstracted file system. If there is no file in the system, return 0.\n",
    "\n",
    "Note:\n",
    "\n",
    "The name of a file contains at least a period and an extension.\n",
    "\n",
    "The name of a directory or sub-directory will not contain a period."
   ]
  },
  {
   "cell_type": "code",
   "execution_count": null,
   "metadata": {},
   "outputs": [],
   "source": []
  },
  {
   "cell_type": "markdown",
   "metadata": {},
   "source": [
    "### 18\n",
    "\n",
    "This problem was asked by Google.\n",
    "\n",
    "Given an array of integers and a number k, where 1 <= k <= length of the array, compute the maximum values of each subarray of length k.\n",
    "\n",
    "For example, given array = [10, 5, 2, 7, 8, 7] and k = 3, we should get: [10, 7, 8, 8], since:\n",
    "\n",
    "- 10 = max(10, 5, 2)\n",
    "- 7 = max(5, 2, 7)\n",
    "- 8 = max(2, 7, 8)\n",
    "- 8 = max(7, 8, 7)\n",
    "\n",
    "Do this in O(n) time and O(k) space. You can modify the input array in-place and you do not need to store the results. You can simply print them out as you compute them.\n",
    "\n"
   ]
  },
  {
   "cell_type": "code",
   "execution_count": null,
   "metadata": {},
   "outputs": [],
   "source": []
  },
  {
   "cell_type": "markdown",
   "metadata": {},
   "source": [
    "### 19 \n",
    "\n",
    "This problem was asked by Facebook.\n",
    "\n",
    "A builder is looking to build a row of N houses that can be of K different colors. He has a goal of minimizing cost while ensuring that no two neighboring houses are of the same color.\n",
    "\n",
    "Given an N by K matrix where the nth row and kth column represents the cost to build the nth house with kth color, return the minimum cost which achieves this goal."
   ]
  },
  {
   "cell_type": "code",
   "execution_count": null,
   "metadata": {},
   "outputs": [],
   "source": []
  },
  {
   "cell_type": "markdown",
   "metadata": {},
   "source": [
    "### 20\n",
    "\n",
    "This problem was asked by Google.\n",
    "\n",
    "Given two singly linked lists that intersect at some point, find the intersecting node. The lists are non-cyclical.\n",
    "\n",
    "For example, given A = 3 -> 7 -> 8 -> 10 and B = 99 -> 1 -> 8 -> 10, return the node with value 8.\n",
    "\n",
    "In this example, assume nodes with the same value are the exact same node objects.\n",
    "\n",
    "Do this in O(M + N) time (where M and N are the lengths of the lists) and constant space."
   ]
  },
  {
   "cell_type": "code",
   "execution_count": null,
   "metadata": {},
   "outputs": [],
   "source": []
  }
 ],
 "metadata": {
  "kernelspec": {
   "display_name": "Python 3",
   "language": "python",
   "name": "python3"
  },
  "language_info": {
   "codemirror_mode": {
    "name": "ipython",
    "version": 3
   },
   "file_extension": ".py",
   "mimetype": "text/x-python",
   "name": "python",
   "nbconvert_exporter": "python",
   "pygments_lexer": "ipython3",
   "version": "3.6.4"
  },
  "nteract": {
   "version": "nteract-on-jupyter@1.9.7"
  }
 },
 "nbformat": 4,
 "nbformat_minor": 2
}
